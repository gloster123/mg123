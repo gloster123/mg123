{
 "cells": [
  {
   "cell_type": "markdown",
   "id": "8faaabe8-34e9-4e40-9b37-4f502980576a",
   "metadata": {},
   "source": [
    "# 2) Data Wrangling II \r\n",
    "Create an “Academic performance” dataset of students and perform the following operations using \r\n",
    "Python. \r\n",
    " \r\n",
    "1. Scan all variables for missing values and inconsistencies. If there are missing values and/or \r\n",
    "inconsistencies, use any of the suitable techniques to deal with them. \r\n",
    "2. Scan all numeric variables for outliers. If there are outliers, use any of the suitable techniques \r\n",
    "to deal with them. \r\n",
    "3. Apply data transformations on at least one of the variables. The purpose of this \r\n",
    "transformation should be one of the following reasons: to change the scale for better \r\n",
    "understanding of the variable, to convert a non-linear relation into a linear one, or to decrease \r\n",
    "the skewness and convert the distribution into a normal distribution."
   ]
  },
  {
   "cell_type": "code",
   "execution_count": 1,
   "id": "47e8c759-3836-4377-a4d5-064170fc65b2",
   "metadata": {},
   "outputs": [],
   "source": [
    "# Create an “Academic performance” dataset"
   ]
  },
  {
   "cell_type": "code",
   "execution_count": 2,
   "id": "7dcbd220-de91-423e-86fc-54c727af2fb5",
   "metadata": {},
   "outputs": [],
   "source": [
    "import pandas as pd\n",
    "import numpy as np\n",
    "import matplotlib.pyplot as plt\n",
    "import seaborn as sns"
   ]
  },
  {
   "cell_type": "code",
   "execution_count": 3,
   "id": "b6ebc7f7-d3b0-4960-9827-88436220b8bd",
   "metadata": {},
   "outputs": [],
   "source": [
    "data = { 'Student_Id':[1,2,3,4,5,6,7,8],\n",
    "        'Name':['sonu','monu','panu','riya','gayu','aradhya','aditi','mayra'],\n",
    "        'Age':[22,17,None,21,18,10,14,15],\n",
    "        'Grade':[60,70,77,65,None,88,70,None],\n",
    "        'Attendance':[90,89,45,67,80,99,56,75]\n",
    "       }"
   ]
  },
  {
   "cell_type": "code",
   "execution_count": 4,
   "id": "72446de2-02f1-4aa6-92bb-a42047fce87a",
   "metadata": {},
   "outputs": [],
   "source": [
    "df=pd.DataFrame(data)"
   ]
  },
  {
   "cell_type": "code",
   "execution_count": 5,
   "id": "f510911f-2984-43b7-8c6a-790d42d7c8db",
   "metadata": {},
   "outputs": [
    {
     "data": {
      "text/html": [
       "<div>\n",
       "<style scoped>\n",
       "    .dataframe tbody tr th:only-of-type {\n",
       "        vertical-align: middle;\n",
       "    }\n",
       "\n",
       "    .dataframe tbody tr th {\n",
       "        vertical-align: top;\n",
       "    }\n",
       "\n",
       "    .dataframe thead th {\n",
       "        text-align: right;\n",
       "    }\n",
       "</style>\n",
       "<table border=\"1\" class=\"dataframe\">\n",
       "  <thead>\n",
       "    <tr style=\"text-align: right;\">\n",
       "      <th></th>\n",
       "      <th>Student_Id</th>\n",
       "      <th>Name</th>\n",
       "      <th>Age</th>\n",
       "      <th>Grade</th>\n",
       "      <th>Attendance</th>\n",
       "    </tr>\n",
       "  </thead>\n",
       "  <tbody>\n",
       "    <tr>\n",
       "      <th>0</th>\n",
       "      <td>1</td>\n",
       "      <td>sonu</td>\n",
       "      <td>22.0</td>\n",
       "      <td>60.0</td>\n",
       "      <td>90</td>\n",
       "    </tr>\n",
       "    <tr>\n",
       "      <th>1</th>\n",
       "      <td>2</td>\n",
       "      <td>monu</td>\n",
       "      <td>17.0</td>\n",
       "      <td>70.0</td>\n",
       "      <td>89</td>\n",
       "    </tr>\n",
       "    <tr>\n",
       "      <th>2</th>\n",
       "      <td>3</td>\n",
       "      <td>panu</td>\n",
       "      <td>NaN</td>\n",
       "      <td>77.0</td>\n",
       "      <td>45</td>\n",
       "    </tr>\n",
       "    <tr>\n",
       "      <th>3</th>\n",
       "      <td>4</td>\n",
       "      <td>riya</td>\n",
       "      <td>21.0</td>\n",
       "      <td>65.0</td>\n",
       "      <td>67</td>\n",
       "    </tr>\n",
       "    <tr>\n",
       "      <th>4</th>\n",
       "      <td>5</td>\n",
       "      <td>gayu</td>\n",
       "      <td>18.0</td>\n",
       "      <td>NaN</td>\n",
       "      <td>80</td>\n",
       "    </tr>\n",
       "    <tr>\n",
       "      <th>5</th>\n",
       "      <td>6</td>\n",
       "      <td>aradhya</td>\n",
       "      <td>10.0</td>\n",
       "      <td>88.0</td>\n",
       "      <td>99</td>\n",
       "    </tr>\n",
       "    <tr>\n",
       "      <th>6</th>\n",
       "      <td>7</td>\n",
       "      <td>aditi</td>\n",
       "      <td>14.0</td>\n",
       "      <td>70.0</td>\n",
       "      <td>56</td>\n",
       "    </tr>\n",
       "    <tr>\n",
       "      <th>7</th>\n",
       "      <td>8</td>\n",
       "      <td>mayra</td>\n",
       "      <td>15.0</td>\n",
       "      <td>NaN</td>\n",
       "      <td>75</td>\n",
       "    </tr>\n",
       "  </tbody>\n",
       "</table>\n",
       "</div>"
      ],
      "text/plain": [
       "   Student_Id     Name   Age  Grade  Attendance\n",
       "0           1     sonu  22.0   60.0          90\n",
       "1           2     monu  17.0   70.0          89\n",
       "2           3     panu   NaN   77.0          45\n",
       "3           4     riya  21.0   65.0          67\n",
       "4           5     gayu  18.0    NaN          80\n",
       "5           6  aradhya  10.0   88.0          99\n",
       "6           7    aditi  14.0   70.0          56\n",
       "7           8    mayra  15.0    NaN          75"
      ]
     },
     "execution_count": 5,
     "metadata": {},
     "output_type": "execute_result"
    }
   ],
   "source": [
    "df"
   ]
  },
  {
   "cell_type": "code",
   "execution_count": 6,
   "id": "74a51992-6fc4-434d-bd48-5e1649d822bd",
   "metadata": {},
   "outputs": [],
   "source": [
    "# missing values and inconsistencies"
   ]
  },
  {
   "cell_type": "code",
   "execution_count": 7,
   "id": "b2b71a8d-058a-4e85-969b-82b66754a5de",
   "metadata": {},
   "outputs": [],
   "source": [
    "missing_values = df.isnull().sum()"
   ]
  },
  {
   "cell_type": "code",
   "execution_count": 8,
   "id": "460810e3-a87c-4383-88f6-8f1bea286c2e",
   "metadata": {},
   "outputs": [
    {
     "data": {
      "text/plain": [
       "Student_Id    0\n",
       "Name          0\n",
       "Age           1\n",
       "Grade         2\n",
       "Attendance    0\n",
       "dtype: int64"
      ]
     },
     "execution_count": 8,
     "metadata": {},
     "output_type": "execute_result"
    }
   ],
   "source": [
    "missing_values"
   ]
  },
  {
   "cell_type": "code",
   "execution_count": 9,
   "id": "f818f422-1e1f-474f-91fc-aa0f4d9f0803",
   "metadata": {},
   "outputs": [],
   "source": [
    "inconsistent_age = df[(df['Age']<10) | (df['Age']>20)]"
   ]
  },
  {
   "cell_type": "code",
   "execution_count": 10,
   "id": "03275d32-71c3-4471-8703-8f5334e9e4b3",
   "metadata": {},
   "outputs": [
    {
     "data": {
      "text/html": [
       "<div>\n",
       "<style scoped>\n",
       "    .dataframe tbody tr th:only-of-type {\n",
       "        vertical-align: middle;\n",
       "    }\n",
       "\n",
       "    .dataframe tbody tr th {\n",
       "        vertical-align: top;\n",
       "    }\n",
       "\n",
       "    .dataframe thead th {\n",
       "        text-align: right;\n",
       "    }\n",
       "</style>\n",
       "<table border=\"1\" class=\"dataframe\">\n",
       "  <thead>\n",
       "    <tr style=\"text-align: right;\">\n",
       "      <th></th>\n",
       "      <th>Student_Id</th>\n",
       "      <th>Name</th>\n",
       "      <th>Age</th>\n",
       "      <th>Grade</th>\n",
       "      <th>Attendance</th>\n",
       "    </tr>\n",
       "  </thead>\n",
       "  <tbody>\n",
       "    <tr>\n",
       "      <th>0</th>\n",
       "      <td>1</td>\n",
       "      <td>sonu</td>\n",
       "      <td>22.0</td>\n",
       "      <td>60.0</td>\n",
       "      <td>90</td>\n",
       "    </tr>\n",
       "    <tr>\n",
       "      <th>3</th>\n",
       "      <td>4</td>\n",
       "      <td>riya</td>\n",
       "      <td>21.0</td>\n",
       "      <td>65.0</td>\n",
       "      <td>67</td>\n",
       "    </tr>\n",
       "  </tbody>\n",
       "</table>\n",
       "</div>"
      ],
      "text/plain": [
       "   Student_Id  Name   Age  Grade  Attendance\n",
       "0           1  sonu  22.0   60.0          90\n",
       "3           4  riya  21.0   65.0          67"
      ]
     },
     "execution_count": 10,
     "metadata": {},
     "output_type": "execute_result"
    }
   ],
   "source": [
    "inconsistent_age"
   ]
  },
  {
   "cell_type": "code",
   "execution_count": 11,
   "id": "82191c09-8c36-4a4e-aa87-12f1ad8b1871",
   "metadata": {},
   "outputs": [],
   "source": [
    "df['Grade'].fillna(df['Grade'].median(),inplace=True)"
   ]
  },
  {
   "cell_type": "code",
   "execution_count": 12,
   "id": "4cb82106-b9b8-4622-b2b9-1848b8ad478c",
   "metadata": {},
   "outputs": [],
   "source": [
    "df['Age'].fillna(df['Age'].median(),inplace=True)"
   ]
  },
  {
   "cell_type": "code",
   "execution_count": 13,
   "id": "e2759c4b-a985-4de0-95d2-0668c8ac5056",
   "metadata": {},
   "outputs": [
    {
     "data": {
      "text/html": [
       "<div>\n",
       "<style scoped>\n",
       "    .dataframe tbody tr th:only-of-type {\n",
       "        vertical-align: middle;\n",
       "    }\n",
       "\n",
       "    .dataframe tbody tr th {\n",
       "        vertical-align: top;\n",
       "    }\n",
       "\n",
       "    .dataframe thead th {\n",
       "        text-align: right;\n",
       "    }\n",
       "</style>\n",
       "<table border=\"1\" class=\"dataframe\">\n",
       "  <thead>\n",
       "    <tr style=\"text-align: right;\">\n",
       "      <th></th>\n",
       "      <th>Student_Id</th>\n",
       "      <th>Name</th>\n",
       "      <th>Age</th>\n",
       "      <th>Grade</th>\n",
       "      <th>Attendance</th>\n",
       "    </tr>\n",
       "  </thead>\n",
       "  <tbody>\n",
       "    <tr>\n",
       "      <th>0</th>\n",
       "      <td>1</td>\n",
       "      <td>sonu</td>\n",
       "      <td>22.0</td>\n",
       "      <td>60.0</td>\n",
       "      <td>90</td>\n",
       "    </tr>\n",
       "    <tr>\n",
       "      <th>1</th>\n",
       "      <td>2</td>\n",
       "      <td>monu</td>\n",
       "      <td>17.0</td>\n",
       "      <td>70.0</td>\n",
       "      <td>89</td>\n",
       "    </tr>\n",
       "    <tr>\n",
       "      <th>2</th>\n",
       "      <td>3</td>\n",
       "      <td>panu</td>\n",
       "      <td>17.0</td>\n",
       "      <td>77.0</td>\n",
       "      <td>45</td>\n",
       "    </tr>\n",
       "    <tr>\n",
       "      <th>3</th>\n",
       "      <td>4</td>\n",
       "      <td>riya</td>\n",
       "      <td>21.0</td>\n",
       "      <td>65.0</td>\n",
       "      <td>67</td>\n",
       "    </tr>\n",
       "    <tr>\n",
       "      <th>4</th>\n",
       "      <td>5</td>\n",
       "      <td>gayu</td>\n",
       "      <td>18.0</td>\n",
       "      <td>70.0</td>\n",
       "      <td>80</td>\n",
       "    </tr>\n",
       "    <tr>\n",
       "      <th>5</th>\n",
       "      <td>6</td>\n",
       "      <td>aradhya</td>\n",
       "      <td>10.0</td>\n",
       "      <td>88.0</td>\n",
       "      <td>99</td>\n",
       "    </tr>\n",
       "    <tr>\n",
       "      <th>6</th>\n",
       "      <td>7</td>\n",
       "      <td>aditi</td>\n",
       "      <td>14.0</td>\n",
       "      <td>70.0</td>\n",
       "      <td>56</td>\n",
       "    </tr>\n",
       "    <tr>\n",
       "      <th>7</th>\n",
       "      <td>8</td>\n",
       "      <td>mayra</td>\n",
       "      <td>15.0</td>\n",
       "      <td>70.0</td>\n",
       "      <td>75</td>\n",
       "    </tr>\n",
       "  </tbody>\n",
       "</table>\n",
       "</div>"
      ],
      "text/plain": [
       "   Student_Id     Name   Age  Grade  Attendance\n",
       "0           1     sonu  22.0   60.0          90\n",
       "1           2     monu  17.0   70.0          89\n",
       "2           3     panu  17.0   77.0          45\n",
       "3           4     riya  21.0   65.0          67\n",
       "4           5     gayu  18.0   70.0          80\n",
       "5           6  aradhya  10.0   88.0          99\n",
       "6           7    aditi  14.0   70.0          56\n",
       "7           8    mayra  15.0   70.0          75"
      ]
     },
     "execution_count": 13,
     "metadata": {},
     "output_type": "execute_result"
    }
   ],
   "source": [
    "df"
   ]
  },
  {
   "cell_type": "code",
   "execution_count": 14,
   "id": "5ac13dff-821c-4852-b4b6-37f72ed5c791",
   "metadata": {},
   "outputs": [
    {
     "data": {
      "text/plain": [
       "{'whiskers': [<matplotlib.lines.Line2D at 0x1f298564290>,\n",
       "  <matplotlib.lines.Line2D at 0x1f298565110>],\n",
       " 'caps': [<matplotlib.lines.Line2D at 0x1f298565f90>,\n",
       "  <matplotlib.lines.Line2D at 0x1f298566c10>],\n",
       " 'boxes': [<matplotlib.lines.Line2D at 0x1f29855b710>],\n",
       " 'medians': [<matplotlib.lines.Line2D at 0x1f298567710>],\n",
       " 'fliers': [<matplotlib.lines.Line2D at 0x1f298574310>],\n",
       " 'means': []}"
      ]
     },
     "execution_count": 14,
     "metadata": {},
     "output_type": "execute_result"
    },
    {
     "data": {
      "image/png": "[encoded data removed]",
      "text/plain": [
       "<Figure size 640x480 with 1 Axes>"
      ]
     },
     "metadata": {},
     "output_type": "display_data"
    }
   ],
   "source": [
    "plt.boxplot(x='Age',data=df)"
   ]
  },
  {
   "cell_type": "code",
   "execution_count": 15,
   "id": "d668d476-1afd-420a-90c9-d3c47776c0af",
   "metadata": {},
   "outputs": [
    {
     "data": {
      "text/plain": [
       "{'whiskers': [<matplotlib.lines.Line2D at 0x1f298610090>,\n",
       "  <matplotlib.lines.Line2D at 0x1f298610a90>],\n",
       " 'caps': [<matplotlib.lines.Line2D at 0x1f298611690>,\n",
       "  <matplotlib.lines.Line2D at 0x1f298612190>],\n",
       " 'boxes': [<matplotlib.lines.Line2D at 0x1f2985ff5d0>],\n",
       " 'medians': [<matplotlib.lines.Line2D at 0x1f298612c10>],\n",
       " 'fliers': [<matplotlib.lines.Line2D at 0x1f2986136d0>],\n",
       " 'means': []}"
      ]
     },
     "execution_count": 15,
     "metadata": {},
     "output_type": "execute_result"
    },
    {
     "data": {
      "image/png": "[encoded data removed]",
      "text/plain": [
       "<Figure size 640x480 with 1 Axes>"
      ]
     },
     "metadata": {},
     "output_type": "display_data"
    }
   ],
   "source": [
    "plt.boxplot(x='Grade',data=df)"
   ]
  },
  {
   "cell_type": "code",
   "execution_count": 16,
   "id": "41725bd4-053b-47f1-9969-12435cf9b503",
   "metadata": {},
   "outputs": [
    {
     "data": {
      "text/plain": [
       "{'whiskers': [<matplotlib.lines.Line2D at 0x1f298674710>,\n",
       "  <matplotlib.lines.Line2D at 0x1f298675290>],\n",
       " 'caps': [<matplotlib.lines.Line2D at 0x1f298675dd0>,\n",
       "  <matplotlib.lines.Line2D at 0x1f298676950>],\n",
       " 'boxes': [<matplotlib.lines.Line2D at 0x1f29866bc90>],\n",
       " 'medians': [<matplotlib.lines.Line2D at 0x1f298677310>],\n",
       " 'fliers': [<matplotlib.lines.Line2D at 0x1f298677d90>],\n",
       " 'means': []}"
      ]
     },
     "execution_count": 16,
     "metadata": {},
     "output_type": "execute_result"
    },
    {
     "data": {
      "image/png": "[encoded data removed]",
      "text/plain": [
       "<Figure size 640x480 with 1 Axes>"
      ]
     },
     "metadata": {},
     "output_type": "display_data"
    }
   ],
   "source": [
    "plt.boxplot(x='Attendance',data=df)"
   ]
  },
  {
   "cell_type": "code",
   "execution_count": 17,
   "id": "f0130164-5825-4e3f-aa40-01505341ac10",
   "metadata": {},
   "outputs": [],
   "source": [
    "def Remove_outliers(column):\n",
    "    Q1= column.quantile(0.25)\n",
    "    Q3=column.quantile(0.75)\n",
    "    IQR = Q3-Q1\n",
    "    Lower_Bound=Q1 - 1.5*IQR\n",
    "    Upper_Bound=Q3 + 1.5*IQR\n",
    "    return column[(column>=Lower_Bound)&(column<=Upper_Bound)]\n"
   ]
  },
  {
   "cell_type": "code",
   "execution_count": 18,
   "id": "6b435c73-10f6-40a1-9e8b-b01819eb0ac5",
   "metadata": {},
   "outputs": [],
   "source": [
    "df['Attendance']=Remove_outliers(df['Attendance'])"
   ]
  },
  {
   "cell_type": "code",
   "execution_count": 25,
   "id": "2227f0c4-05b9-430d-82fc-cac1d8d088bd",
   "metadata": {},
   "outputs": [
    {
     "data": {
      "text/plain": [
       "0    90\n",
       "1    89\n",
       "2    45\n",
       "3    67\n",
       "4    80\n",
       "5    99\n",
       "6    56\n",
       "7    75\n",
       "Name: Attendance, dtype: int64"
      ]
     },
     "execution_count": 25,
     "metadata": {},
     "output_type": "execute_result"
    }
   ],
   "source": [
    "df['Attendance']"
   ]
  },
  {
   "cell_type": "code",
   "execution_count": 26,
   "id": "70b0e357-9cfe-48bb-a4d4-be285b12f5d1",
   "metadata": {},
   "outputs": [],
   "source": [
    "df['Age']=Remove_outliers(df['Age'])"
   ]
  },
  {
   "cell_type": "code",
   "execution_count": 27,
   "id": "49f9ac80-8e82-44ba-a6d1-e4e4e34c008d",
   "metadata": {},
   "outputs": [
    {
     "data": {
      "text/plain": [
       "0    22.0\n",
       "1    17.0\n",
       "2    17.0\n",
       "3    21.0\n",
       "4    18.0\n",
       "5    10.0\n",
       "6    14.0\n",
       "7    15.0\n",
       "Name: Age, dtype: float64"
      ]
     },
     "execution_count": 27,
     "metadata": {},
     "output_type": "execute_result"
    }
   ],
   "source": [
    "df['Age']"
   ]
  },
  {
   "cell_type": "code",
   "execution_count": 28,
   "id": "445a8292-34f7-44d6-ba08-b4752799ce9e",
   "metadata": {},
   "outputs": [],
   "source": [
    "df['Grade']=Remove_outliers(df['Grade'])"
   ]
  },
  {
   "cell_type": "code",
   "execution_count": 29,
   "id": "990bb1f1-e8e8-449c-9b54-d4094f86bf2f",
   "metadata": {},
   "outputs": [
    {
     "data": {
      "text/plain": [
       "0     NaN\n",
       "1    70.0\n",
       "2     NaN\n",
       "3     NaN\n",
       "4    70.0\n",
       "5     NaN\n",
       "6    70.0\n",
       "7    70.0\n",
       "Name: Grade, dtype: float64"
      ]
     },
     "execution_count": 29,
     "metadata": {},
     "output_type": "execute_result"
    }
   ],
   "source": [
    "df['Grade']"
   ]
  },
  {
   "cell_type": "code",
   "execution_count": 21,
   "id": "12e278e1-bdc7-4fc4-bd9c-69ef105ce3b0",
   "metadata": {},
   "outputs": [],
   "source": [
    "# Apply data transformations"
   ]
  },
  {
   "cell_type": "code",
   "execution_count": 22,
   "id": "2836c2de-64a0-467a-900c-db38085eb7da",
   "metadata": {},
   "outputs": [],
   "source": [
    "df['Age_sqrt']=np.sqrt(df['Age'])"
   ]
  },
  {
   "cell_type": "code",
   "execution_count": 24,
   "id": "0fe39ed3-5d41-4410-8dd1-c8e279ac0fa2",
   "metadata": {},
   "outputs": [
    {
     "data": {
      "text/plain": [
       "0    4.690416\n",
       "1    4.123106\n",
       "2    4.123106\n",
       "3    4.582576\n",
       "4    4.242641\n",
       "5    3.162278\n",
       "6    3.741657\n",
       "7    3.872983\n",
       "Name: Age_sqrt, dtype: float64"
      ]
     },
     "execution_count": 24,
     "metadata": {},
     "output_type": "execute_result"
    }
   ],
   "source": [
    "df['Age_sqrt']"
   ]
  }
 ],
 "metadata": {
  "kernelspec": {
   "display_name": "Python 3 (ipykernel)",
   "language": "python",
   "name": "python3"
  },
  "language_info": {
   "codemirror_mode": {
    "name": "ipython",
    "version": 3
   },
   "file_extension": ".py",
   "mimetype": "text/x-python",
   "name": "python",
   "nbconvert_exporter": "python",
   "pygments_lexer": "ipython3",
   "version": "3.11.7"
  }
 },
 "nbformat": 4,
 "nbformat_minor": 5
}
