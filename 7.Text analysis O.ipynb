{
  "cells": [
    {
      "cell_type": "markdown",
      "id": "d5a9d79b",
      "metadata": {
        "id": "d5a9d79b"
      },
      "source": [
        "# Text Analytics\n",
        "1. Extract Sample document and apply following document preprocessing methods: \\\n",
        "Tokenization, POS Tagging, stop words removal, Stemming and Lemmatization.\n",
        "2. Create representation of documents by calculating Term Frequency and Inverse\n",
        "DocumentFrequency."
      ]
    },
    {
      "cell_type": "code",
      "execution_count": null,
      "id": "f8767db7",
      "metadata": {
        "id": "f8767db7",
        "outputId": "1f01b797-ec13-4d2f-b1fa-da65e62a1c09"
      },
      "outputs": [
        {
          "name": "stderr",
          "output_type": "stream",
          "text": [
            "[nltk_data] Downloading package punkt to\n",
            "[nltk_data]     C:\\Users\\shrey\\AppData\\Roaming\\nltk_data...\n",
            "[nltk_data]   Package punkt is already up-to-date!\n",
            "[nltk_data] Downloading package wordnet to\n",
            "[nltk_data]     C:\\Users\\shrey\\AppData\\Roaming\\nltk_data...\n",
            "[nltk_data]   Package wordnet is already up-to-date!\n",
            "[nltk_data] Downloading package averaged_perceptron_tagger to\n",
            "[nltk_data]     C:\\Users\\shrey\\AppData\\Roaming\\nltk_data...\n",
            "[nltk_data]   Package averaged_perceptron_tagger is already up-to-\n",
            "[nltk_data]       date!\n",
            "[nltk_data] Downloading package stopwords to\n",
            "[nltk_data]     C:\\Users\\shrey\\AppData\\Roaming\\nltk_data...\n",
            "[nltk_data]   Package stopwords is already up-to-date!\n"
          ]
        }
      ],
      "source": [
        "#Importing the essential libraries.\n",
        "import pandas as pd\n",
        "import math\n",
        "import nltk\n",
        "nltk.download('punkt')\n",
        "nltk.download('wordnet')\n",
        "nltk.download('averaged_perceptron_tagger')\n",
        "nltk.download('stopwords')\n",
        "import matplotlib.pyplot as plt\n",
        "from nltk import sent_tokenize\n",
        "from nltk import word_tokenize\n",
        "from nltk.corpus import stopwords\n",
        "from nltk import FreqDist\n",
        "from wordcloud import WordCloud, STOPWORDS"
      ]
    },
    {
      "cell_type": "code",
      "execution_count": null,
      "id": "491be59d",
      "metadata": {
        "id": "491be59d",
        "outputId": "695f5a0b-0bb9-45d7-806e-3105c081141d"
      },
      "outputs": [
        {
          "data": {
            "text/plain": [
              "'the quick brown fox jumps over the lazy dog. this classic sentence showcases the english alphabet and is often used for typing practice. however, beyond its simplicity, it also serves as an example of sentence structure and word relationships. text analytics can break down this paragraph into its constituent words, analyze their frequency, and identify any patterns or anomalies. additionally, it can extract key information such as the presence of specific words or phrases, sentiment analysis, and even grammatical structure. by applying text analytics to this paragraph, we can gain insights into its linguistic properties and extract meaningful information from seemingly simple text'"
            ]
          },
          "execution_count": 2,
          "metadata": {},
          "output_type": "execute_result"
        }
      ],
      "source": [
        "text='The quick brown fox jumps over the lazy dog. This classic sentence showcases the English alphabet and is often used for typing practice. However, beyond its simplicity, it also serves as an example of sentence structure and word relationships. Text analytics can break down this paragraph into its constituent words, analyze their frequency, and identify any patterns or anomalies. Additionally, it can extract key information such as the presence of specific words or phrases, sentiment analysis, and even grammatical structure. By applying text analytics to this paragraph, we can gain insights into its linguistic properties and extract meaningful information from seemingly simple text'\n",
        "text = text.lower()\n",
        "text"
      ]
    },
    {
      "cell_type": "markdown",
      "id": "95ccd947",
      "metadata": {
        "id": "95ccd947"
      },
      "source": [
        "# Sentence Tokenization"
      ]
    },
    {
      "cell_type": "code",
      "execution_count": null,
      "id": "745cfeaf",
      "metadata": {
        "id": "745cfeaf",
        "outputId": "7ed07541-e6c7-4ace-a837-17be2953df52"
      },
      "outputs": [
        {
          "name": "stdout",
          "output_type": "stream",
          "text": [
            "['the quick brown fox jumps over the lazy dog.', 'this classic sentence showcases the english alphabet and is often used for typing practice.', 'however, beyond its simplicity, it also serves as an example of sentence structure and word relationships.', 'text analytics can break down this paragraph into its constituent words, analyze their frequency, and identify any patterns or anomalies.', 'additionally, it can extract key information such as the presence of specific words or phrases, sentiment analysis, and even grammatical structure.', 'by applying text analytics to this paragraph, we can gain insights into its linguistic properties and extract meaningful information from seemingly simple text']\n"
          ]
        }
      ],
      "source": [
        "#Tokenization : Tokenization is the process of breaking down the given text in natural language processing\n",
        "#into the smallest unit in a sentence called a token.\n",
        "#sentence tokenization\n",
        "tokens_sents = nltk.sent_tokenize(text)\n",
        "print(tokens_sents)"
      ]
    },
    {
      "cell_type": "markdown",
      "id": "0dc08c3f",
      "metadata": {
        "id": "0dc08c3f"
      },
      "source": [
        "# Word Tokenization"
      ]
    },
    {
      "cell_type": "code",
      "execution_count": null,
      "id": "188091a8",
      "metadata": {
        "id": "188091a8",
        "outputId": "5c216a7d-64f4-4fd0-ff28-4698562f2db4"
      },
      "outputs": [
        {
          "name": "stdout",
          "output_type": "stream",
          "text": [
            "['the', 'quick', 'brown', 'fox', 'jumps', 'over', 'the', 'lazy', 'dog', '.', 'this', 'classic', 'sentence', 'showcases', 'the', 'english', 'alphabet', 'and', 'is', 'often', 'used', 'for', 'typing', 'practice', '.', 'however', ',', 'beyond', 'its', 'simplicity', ',', 'it', 'also', 'serves', 'as', 'an', 'example', 'of', 'sentence', 'structure', 'and', 'word', 'relationships', '.', 'text', 'analytics', 'can', 'break', 'down', 'this', 'paragraph', 'into', 'its', 'constituent', 'words', ',', 'analyze', 'their', 'frequency', ',', 'and', 'identify', 'any', 'patterns', 'or', 'anomalies', '.', 'additionally', ',', 'it', 'can', 'extract', 'key', 'information', 'such', 'as', 'the', 'presence', 'of', 'specific', 'words', 'or', 'phrases', ',', 'sentiment', 'analysis', ',', 'and', 'even', 'grammatical', 'structure', '.', 'by', 'applying', 'text', 'analytics', 'to', 'this', 'paragraph', ',', 'we', 'can', 'gain', 'insights', 'into', 'its', 'linguistic', 'properties', 'and', 'extract', 'meaningful', 'information', 'from', 'seemingly', 'simple', 'text']\n"
          ]
        }
      ],
      "source": [
        "\n",
        "tokens_words = nltk.word_tokenize(text)\n",
        "print(tokens_words)"
      ]
    },
    {
      "cell_type": "markdown",
      "id": "35618f33",
      "metadata": {
        "id": "35618f33"
      },
      "source": [
        "# Stemming:\n",
        "Stemming is the process of finding the root of words \\\n",
        "Porter Stemmer :  used to remove the suffixes from an English word and obtain its stem"
      ]
    },
    {
      "cell_type": "markdown",
      "id": "742f37be",
      "metadata": {
        "id": "742f37be"
      },
      "source": [
        "# Porter Stemmer"
      ]
    },
    {
      "cell_type": "code",
      "execution_count": null,
      "id": "3375aba4",
      "metadata": {
        "id": "3375aba4"
      },
      "outputs": [],
      "source": [
        "from nltk.stem import PorterStemmer"
      ]
    },
    {
      "cell_type": "code",
      "execution_count": null,
      "id": "db258345",
      "metadata": {
        "id": "db258345",
        "outputId": "ab927fb6-7190-4d42-9dd3-1371b645b1f8"
      },
      "outputs": [
        {
          "name": "stdout",
          "output_type": "stream",
          "text": [
            "['the', 'quick', 'brown', 'fox', 'jump', 'over', 'the', 'lazi', 'dog', '.', 'thi', 'classic', 'sentenc', 'showcas', 'the', 'english', 'alphabet', 'and', 'is', 'often', 'use', 'for', 'type', 'practic', '.', 'howev', ',', 'beyond', 'it', 'simplic', ',', 'it', 'also', 'serv', 'as', 'an', 'exampl', 'of', 'sentenc', 'structur', 'and', 'word', 'relationship', '.', 'text', 'analyt', 'can', 'break', 'down', 'thi', 'paragraph', 'into', 'it', 'constitu', 'word', ',', 'analyz', 'their', 'frequenc', ',', 'and', 'identifi', 'ani', 'pattern', 'or', 'anomali', '.', 'addit', ',', 'it', 'can', 'extract', 'key', 'inform', 'such', 'as', 'the', 'presenc', 'of', 'specif', 'word', 'or', 'phrase', ',', 'sentiment', 'analysi', ',', 'and', 'even', 'grammat', 'structur', '.', 'by', 'appli', 'text', 'analyt', 'to', 'thi', 'paragraph', ',', 'we', 'can', 'gain', 'insight', 'into', 'it', 'linguist', 'properti', 'and', 'extract', 'meaning', 'inform', 'from', 'seemingli', 'simpl', 'text']\n"
          ]
        }
      ],
      "source": [
        "stem =[]\n",
        "for i in tokens_words:\n",
        "    ps = PorterStemmer()\n",
        "    stem_word = ps.stem(i)\n",
        "    stem.append(stem_word)\n",
        "print(stem)"
      ]
    },
    {
      "cell_type": "markdown",
      "id": "438a3bbb",
      "metadata": {
        "id": "438a3bbb"
      },
      "source": [
        "# SnowballStemmer"
      ]
    },
    {
      "cell_type": "code",
      "execution_count": null,
      "id": "1a1a7663",
      "metadata": {
        "id": "1a1a7663"
      },
      "outputs": [],
      "source": [
        "from nltk.stem import SnowballStemmer"
      ]
    },
    {
      "cell_type": "code",
      "execution_count": null,
      "id": "fa805688",
      "metadata": {
        "id": "fa805688",
        "outputId": "907a24f6-2d4b-4f97-c257-230e793aaf1e"
      },
      "outputs": [
        {
          "name": "stdout",
          "output_type": "stream",
          "text": [
            "['the', 'quick', 'brown', 'fox', 'jump', 'over', 'the', 'lazi', 'dog', '.', 'this', 'classic', 'sentenc', 'showcas', 'the', 'english', 'alphabet', 'and', 'is', 'often', 'use', 'for', 'type', 'practic', '.', 'howev', ',', 'beyond', 'it', 'simplic', ',', 'it', 'also', 'serv', 'as', 'an', 'exampl', 'of', 'sentenc', 'structur', 'and', 'word', 'relationship', '.', 'text', 'analyt', 'can', 'break', 'down', 'this', 'paragraph', 'into', 'it', 'constitu', 'word', ',', 'analyz', 'their', 'frequenc', ',', 'and', 'identifi', 'ani', 'pattern', 'or', 'anomali', '.', 'addit', ',', 'it', 'can', 'extract', 'key', 'inform', 'such', 'as', 'the', 'presenc', 'of', 'specif', 'word', 'or', 'phrase', ',', 'sentiment', 'analysi', ',', 'and', 'even', 'grammat', 'structur', '.', 'by', 'appli', 'text', 'analyt', 'to', 'this', 'paragraph', ',', 'we', 'can', 'gain', 'insight', 'into', 'it', 'linguist', 'properti', 'and', 'extract', 'meaning', 'inform', 'from', 'seem', 'simpl', 'text']\n"
          ]
        }
      ],
      "source": [
        "stem =[]\n",
        "for i in tokens_words:\n",
        "    sb = SnowballStemmer(language = \"english\")\n",
        "    stem_word = sb.stem(i)\n",
        "    stem.append(stem_word)\n",
        "print(stem)"
      ]
    },
    {
      "cell_type": "markdown",
      "id": "861420c4",
      "metadata": {
        "id": "861420c4"
      },
      "source": [
        "# Lancaster Stemmer"
      ]
    },
    {
      "cell_type": "code",
      "execution_count": null,
      "id": "df4f3ead",
      "metadata": {
        "id": "df4f3ead"
      },
      "outputs": [],
      "source": [
        "from nltk.stem import LancasterStemmer"
      ]
    },
    {
      "cell_type": "code",
      "execution_count": null,
      "id": "4255adbb",
      "metadata": {
        "id": "4255adbb",
        "outputId": "70d7f5ce-29ec-4871-cfb1-a8a7393c3809"
      },
      "outputs": [
        {
          "name": "stdout",
          "output_type": "stream",
          "text": [
            "['the', 'quick', 'brown', 'fox', 'jump', 'over', 'the', 'lazi', 'dog', '.', 'this', 'classic', 'sentenc', 'showcas', 'the', 'english', 'alphabet', 'and', 'is', 'often', 'use', 'for', 'type', 'practic', '.', 'howev', ',', 'beyond', 'it', 'simplic', ',', 'it', 'also', 'serv', 'as', 'an', 'exampl', 'of', 'sentenc', 'structur', 'and', 'word', 'relationship', '.', 'text', 'analyt', 'can', 'break', 'down', 'this', 'paragraph', 'into', 'it', 'constitu', 'word', ',', 'analyz', 'their', 'frequenc', ',', 'and', 'identifi', 'ani', 'pattern', 'or', 'anomali', '.', 'addit', ',', 'it', 'can', 'extract', 'key', 'inform', 'such', 'as', 'the', 'presenc', 'of', 'specif', 'word', 'or', 'phrase', ',', 'sentiment', 'analysi', ',', 'and', 'even', 'grammat', 'structur', '.', 'by', 'appli', 'text', 'analyt', 'to', 'this', 'paragraph', ',', 'we', 'can', 'gain', 'insight', 'into', 'it', 'linguist', 'properti', 'and', 'extract', 'meaning', 'inform', 'from', 'seem', 'simpl', 'text']\n"
          ]
        }
      ],
      "source": [
        "stem =[]\n",
        "for i in tokens_words:\n",
        "    ls = LancasterStemmer()\n",
        "    stem_word = sb.stem(i)\n",
        "    stem.append(stem_word)\n",
        "print(stem)"
      ]
    },
    {
      "cell_type": "markdown",
      "id": "be2970a9",
      "metadata": {
        "id": "be2970a9"
      },
      "source": [
        "# Lemmatization:\n",
        "process of grouping together the different inflected forms of a word so they can be analyzed as a single item"
      ]
    },
    {
      "cell_type": "code",
      "execution_count": null,
      "id": "f3812f27",
      "metadata": {
        "id": "f3812f27"
      },
      "outputs": [],
      "source": [
        "from nltk.stem import WordNetLemmatizer\n",
        "lemmatizer = WordNetLemmatizer()"
      ]
    },
    {
      "cell_type": "code",
      "execution_count": null,
      "id": "e907f5c0",
      "metadata": {
        "id": "e907f5c0",
        "outputId": "ef53915f-670c-4ec0-da65-f73ab37379fc"
      },
      "outputs": [
        {
          "name": "stderr",
          "output_type": "stream",
          "text": [
            "[nltk_data] Downloading package omw-1.4 to\n",
            "[nltk_data]     C:\\Users\\shrey\\AppData\\Roaming\\nltk_data...\n",
            "[nltk_data]   Package omw-1.4 is already up-to-date!\n"
          ]
        },
        {
          "data": {
            "text/plain": [
              "True"
            ]
          },
          "execution_count": 12,
          "metadata": {},
          "output_type": "execute_result"
        }
      ],
      "source": [
        "import nltk\n",
        "nltk.download('omw-1.4')"
      ]
    },
    {
      "cell_type": "code",
      "execution_count": null,
      "id": "e75bf051",
      "metadata": {
        "id": "e75bf051",
        "outputId": "254004b1-1f74-4187-ded0-3d889b9af0be"
      },
      "outputs": [
        {
          "name": "stdout",
          "output_type": "stream",
          "text": [
            "['the', 'quick', 'brown', 'fox', 'jump', 'over', 'the', 'lazi', 'dog', '.', 'this', 'classic', 'sentenc', 'showcas', 'the', 'english', 'alphabet', 'and', 'is', 'often', 'use', 'for', 'type', 'practic', '.', 'howev', ',', 'beyond', 'it', 'simplic', ',', 'it', 'also', 'serv', 'a', 'an', 'exampl', 'of', 'sentenc', 'structur', 'and', 'word', 'relationship', '.', 'text', 'analyt', 'can', 'break', 'down', 'this', 'paragraph', 'into', 'it', 'constitu', 'word', ',', 'analyz', 'their', 'frequenc', ',', 'and', 'identifi', 'ani', 'pattern', 'or', 'anomali', '.', 'addit', ',', 'it', 'can', 'extract', 'key', 'inform', 'such', 'a', 'the', 'presenc', 'of', 'specif', 'word', 'or', 'phrase', ',', 'sentiment', 'analysi', ',', 'and', 'even', 'grammat', 'structur', '.', 'by', 'appli', 'text', 'analyt', 'to', 'this', 'paragraph', ',', 'we', 'can', 'gain', 'insight', 'into', 'it', 'linguist', 'properti', 'and', 'extract', 'meaning', 'inform', 'from', 'seem', 'simpl', 'text']\n"
          ]
        }
      ],
      "source": [
        "lem =[]\n",
        "for i in stem:\n",
        "    lemetized_word = lemmatizer.lemmatize(i)\n",
        "    lem.append(lemetized_word)\n",
        "print(lem)"
      ]
    },
    {
      "cell_type": "markdown",
      "id": "0d5f0961",
      "metadata": {
        "id": "0d5f0961"
      },
      "source": [
        "# Remove punctuation marks"
      ]
    },
    {
      "cell_type": "code",
      "execution_count": null,
      "id": "ca79c2ce",
      "metadata": {
        "id": "ca79c2ce",
        "outputId": "8cd0416a-05e6-416d-e5c4-36abaf178117"
      },
      "outputs": [
        {
          "name": "stdout",
          "output_type": "stream",
          "text": [
            "['the', 'quick', 'brown', 'fox', 'jump', 'over', 'the', 'lazi', 'dog', 'this', 'classic', 'sentenc', 'showcas', 'the', 'english', 'alphabet', 'and', 'is', 'often', 'use', 'for', 'type', 'practic', 'howev', 'beyond', 'it', 'simplic', 'it', 'also', 'serv', 'a', 'an', 'exampl', 'of', 'sentenc', 'structur', 'and', 'word', 'relationship', 'text', 'analyt', 'can', 'break', 'down', 'this', 'paragraph', 'into', 'it', 'constitu', 'word', 'analyz', 'their', 'frequenc', 'and', 'identifi', 'ani', 'pattern', 'or', 'anomali', 'addit', 'it', 'can', 'extract', 'key', 'inform', 'such', 'a', 'the', 'presenc', 'of', 'specif', 'word', 'or', 'phrase', 'sentiment', 'analysi', 'and', 'even', 'grammat', 'structur', 'by', 'appli', 'text', 'analyt', 'to', 'this', 'paragraph', 'we', 'can', 'gain', 'insight', 'into', 'it', 'linguist', 'properti', 'and', 'extract', 'meaning', 'inform', 'from', 'seem', 'simpl', 'text']\n"
          ]
        }
      ],
      "source": [
        "words_without_punctuation = []\n",
        "for word in lem:\n",
        "    if word.isalpha():\n",
        "        words_without_punctuation.append(word)\n",
        "print(words_without_punctuation)"
      ]
    },
    {
      "cell_type": "markdown",
      "id": "a49d1ed0",
      "metadata": {
        "id": "a49d1ed0"
      },
      "source": [
        "# POS tagging"
      ]
    },
    {
      "cell_type": "code",
      "execution_count": null,
      "id": "dcf69d22",
      "metadata": {
        "id": "dcf69d22",
        "outputId": "47527fcf-03d0-495b-e120-dcbd2592eb56"
      },
      "outputs": [
        {
          "name": "stdout",
          "output_type": "stream",
          "text": [
            "Parts of Speech:  [('the', 'DT'), ('quick', 'JJ'), ('brown', 'NN'), ('fox', 'JJ'), ('jump', 'NN'), ('over', 'IN'), ('the', 'DT'), ('lazi', 'JJ'), ('dog', 'NN'), ('.', '.'), ('this', 'DT'), ('classic', 'JJ'), ('sentenc', 'NN'), ('showcas', 'VBD'), ('the', 'DT'), ('english', 'JJ'), ('alphabet', 'NN'), ('and', 'CC'), ('is', 'VBZ'), ('often', 'RB'), ('use', 'JJ'), ('for', 'IN'), ('type', 'JJ'), ('practic', 'JJ'), ('.', '.'), ('howev', 'NN'), (',', ','), ('beyond', 'IN'), ('it', 'PRP'), ('simplic', 'JJ'), (',', ','), ('it', 'PRP'), ('also', 'RB'), ('serv', 'VBD'), ('a', 'DT'), ('an', 'DT'), ('exampl', 'NN'), ('of', 'IN'), ('sentenc', 'NN'), ('structur', 'NN'), ('and', 'CC'), ('word', 'NN'), ('relationship', 'NN'), ('.', '.'), ('text', 'IN'), ('analyt', 'NN'), ('can', 'MD'), ('break', 'VB'), ('down', 'RP'), ('this', 'DT'), ('paragraph', 'NN'), ('into', 'IN'), ('it', 'PRP'), ('constitu', 'VBZ'), ('word', 'NN'), (',', ','), ('analyz', 'VBP'), ('their', 'PRP$'), ('frequenc', 'NN'), (',', ','), ('and', 'CC'), ('identifi', 'JJ'), ('ani', 'NN'), ('pattern', 'NN'), ('or', 'CC'), ('anomali', 'NN'), ('.', '.'), ('addit', 'NN'), (',', ','), ('it', 'PRP'), ('can', 'MD'), ('extract', 'VB'), ('key', 'JJ'), ('inform', 'NN'), ('such', 'PDT'), ('a', 'DT'), ('the', 'DT'), ('presenc', 'NN'), ('of', 'IN'), ('specif', 'JJ'), ('word', 'NN'), ('or', 'CC'), ('phrase', 'NN'), (',', ','), ('sentiment', 'NN'), ('analysi', 'NN'), (',', ','), ('and', 'CC'), ('even', 'RB'), ('grammat', 'VB'), ('structur', 'NN'), ('.', '.'), ('by', 'IN'), ('appli', 'JJ'), ('text', 'NN'), ('analyt', 'NN'), ('to', 'TO'), ('this', 'DT'), ('paragraph', 'NN'), (',', ','), ('we', 'PRP'), ('can', 'MD'), ('gain', 'VB'), ('insight', 'RB'), ('into', 'IN'), ('it', 'PRP'), ('linguist', 'JJ'), ('properti', 'NN'), ('and', 'CC'), ('extract', 'JJ'), ('meaning', 'VBG'), ('inform', 'NN'), ('from', 'IN'), ('seem', 'JJ'), ('simpl', 'NNS'), ('text', 'NN')]\n"
          ]
        }
      ],
      "source": [
        "print(\"Parts of Speech: \",nltk.pos_tag(lem))"
      ]
    },
    {
      "cell_type": "markdown",
      "id": "a5cedca4",
      "metadata": {
        "id": "a5cedca4"
      },
      "source": [
        "# Removing Stop words"
      ]
    },
    {
      "cell_type": "code",
      "execution_count": null,
      "id": "4a41e719",
      "metadata": {
        "id": "4a41e719",
        "outputId": "7fc55962-314c-4953-e789-e9756dc821dc"
      },
      "outputs": [
        {
          "name": "stdout",
          "output_type": "stream",
          "text": [
            "['i', 'me', 'my', 'myself', 'we', 'our', 'ours', 'ourselves', 'you', \"you're\", \"you've\", \"you'll\", \"you'd\", 'your', 'yours', 'yourself', 'yourselves', 'he', 'him', 'his', 'himself', 'she', \"she's\", 'her', 'hers', 'herself', 'it', \"it's\", 'its', 'itself', 'they', 'them', 'their', 'theirs', 'themselves', 'what', 'which', 'who', 'whom', 'this', 'that', \"that'll\", 'these', 'those', 'am', 'is', 'are', 'was', 'were', 'be', 'been', 'being', 'have', 'has', 'had', 'having', 'do', 'does', 'did', 'doing', 'a', 'an', 'the', 'and', 'but', 'if', 'or', 'because', 'as', 'until', 'while', 'of', 'at', 'by', 'for', 'with', 'about', 'against', 'between', 'into', 'through', 'during', 'before', 'after', 'above', 'below', 'to', 'from', 'up', 'down', 'in', 'out', 'on', 'off', 'over', 'under', 'again', 'further', 'then', 'once', 'here', 'there', 'when', 'where', 'why', 'how', 'all', 'any', 'both', 'each', 'few', 'more', 'most', 'other', 'some', 'such', 'no', 'nor', 'not', 'only', 'own', 'same', 'so', 'than', 'too', 'very', 's', 't', 'can', 'will', 'just', 'don', \"don't\", 'should', \"should've\", 'now', 'd', 'll', 'm', 'o', 're', 've', 'y', 'ain', 'aren', \"aren't\", 'couldn', \"couldn't\", 'didn', \"didn't\", 'doesn', \"doesn't\", 'hadn', \"hadn't\", 'hasn', \"hasn't\", 'haven', \"haven't\", 'isn', \"isn't\", 'ma', 'mightn', \"mightn't\", 'mustn', \"mustn't\", 'needn', \"needn't\", 'shan', \"shan't\", 'shouldn', \"shouldn't\", 'wasn', \"wasn't\", 'weren', \"weren't\", 'won', \"won't\", 'wouldn', \"wouldn't\"]\n"
          ]
        }
      ],
      "source": [
        "sw_nltk = stopwords.words('english')\n",
        "print(sw_nltk)"
      ]
    },
    {
      "cell_type": "code",
      "execution_count": null,
      "id": "9182b50f",
      "metadata": {
        "id": "9182b50f",
        "outputId": "443b4440-d474-4462-a6db-a81311204c8a"
      },
      "outputs": [
        {
          "name": "stderr",
          "output_type": "stream",
          "text": [
            "[nltk_data] Downloading package averaged_perceptron_tagger to\n",
            "[nltk_data]     C:\\Users\\shrey\\AppData\\Roaming\\nltk_data...\n",
            "[nltk_data]   Package averaged_perceptron_tagger is already up-to-\n",
            "[nltk_data]       date!\n"
          ]
        },
        {
          "data": {
            "text/plain": [
              "True"
            ]
          },
          "execution_count": 17,
          "metadata": {},
          "output_type": "execute_result"
        }
      ],
      "source": [
        "nltk.download('averaged_perceptron_tagger')"
      ]
    },
    {
      "cell_type": "code",
      "execution_count": null,
      "id": "fd585d1c",
      "metadata": {
        "id": "fd585d1c",
        "outputId": "92b64c44-d339-4c20-a3c2-4da46f98edbe"
      },
      "outputs": [
        {
          "name": "stdout",
          "output_type": "stream",
          "text": [
            "quick brown fox jumps lazy dog. classic sentence showcases english alphabet often used typing practice. however, beyond simplicity, also serves example sentence structure word relationships. text analytics break paragraph constituent words, analyze frequency, identify patterns anomalies. additionally, extract key information presence specific words phrases, sentiment analysis, even grammatical structure. applying text analytics paragraph, gain insights linguistic properties extract meaningful information seemingly simple text\n"
          ]
        }
      ],
      "source": [
        "words = [word for word in text.split() if word.lower() not in sw_nltk]\n",
        "new_text = \" \".join(words)\n",
        "print(new_text)"
      ]
    },
    {
      "cell_type": "markdown",
      "id": "0d50f582",
      "metadata": {
        "id": "0d50f582"
      },
      "source": [
        "# Plotting the wordcloud"
      ]
    },
    {
      "cell_type": "code",
      "execution_count": null,
      "id": "f13d55df",
      "metadata": {
        "id": "f13d55df",
        "outputId": "902098ae-6f2f-487e-f094-48d304d5a584"
      },
      "outputs": [
        {
          "name": "stdout",
          "output_type": "stream",
          "text": [
            "[('and', 5), ('it', 5), ('the', 4), ('this', 3), ('word', 3), ('text', 3), ('can', 3), ('sentenc', 2), ('a', 2), ('of', 2)]\n"
          ]
        },
        {
          "data": {
            "image/png": "[encoded data removed]",
            "text/plain": [
              "<Figure size 640x480 with 1 Axes>"
            ]
          },
          "metadata": {},
          "output_type": "display_data"
        },
        {
          "data": {
            "text/plain": [
              "<function matplotlib.pyplot.show(close=None, block=None)>"
            ]
          },
          "execution_count": 19,
          "metadata": {},
          "output_type": "execute_result"
        },
        {
          "data": {
            "image/png": "[encoded data removed]",
            "text/plain": [
              "<Figure size 1800x1800 with 1 Axes>"
            ]
          },
          "metadata": {},
          "output_type": "display_data"
        }
      ],
      "source": [
        "# counting the word occurrence using FreqDist library\n",
        "freq = FreqDist(words_without_punctuation)\n",
        "print(freq.most_common(10))\n",
        "\n",
        "#plot the frequency of words\n",
        "freq.plot(10)\n",
        "\n",
        "wordcloud = WordCloud(background_color ='white').generate(text)\n",
        "plt.figure(figsize=(18, 18))\n",
        "plt.imshow(wordcloud)\n",
        "plt.axis(\"off\")\n",
        "plt.show"
      ]
    },
    {
      "cell_type": "markdown",
      "id": "36362303",
      "metadata": {
        "id": "36362303"
      },
      "source": [
        "# Term Frequency and Inverse DocumentFrequency"
      ]
    },
    {
      "cell_type": "code",
      "execution_count": null,
      "id": "612b3781",
      "metadata": {
        "id": "612b3781"
      },
      "outputs": [],
      "source": [
        "from sklearn.feature_extraction.text import TfidfVectorizer"
      ]
    },
    {
      "cell_type": "code",
      "execution_count": null,
      "id": "f78f6b15",
      "metadata": {
        "id": "f78f6b15",
        "outputId": "09c413ce-7e6a-4420-d5d3-883ea01bddb2"
      },
      "outputs": [
        {
          "data": {
            "text/plain": [
              "['data science is one of the most important fields of science',\n",
              " 'this is one of the best data science courses',\n",
              " 'data scientists analyze data']"
            ]
          },
          "execution_count": 21,
          "metadata": {},
          "output_type": "execute_result"
        }
      ],
      "source": [
        "# assign documents\n",
        "d0 = 'data science is one of the most important fields of science'\n",
        "d1 = 'this is one of the best data science courses'\n",
        "d2 = 'data scientists analyze data'\n",
        "\n",
        "\n",
        "# merge documents into a single corpus\n",
        "string = [d0, d1, d2]\n",
        "string"
      ]
    },
    {
      "cell_type": "code",
      "execution_count": null,
      "id": "5286de21",
      "metadata": {
        "id": "5286de21",
        "outputId": "42999b05-4f0e-4276-e34d-700a91d21929"
      },
      "outputs": [
        {
          "data": {
            "text/plain": [
              "<3x14 sparse matrix of type '<class 'numpy.float64'>'\n",
              "\twith 21 stored elements in Compressed Sparse Row format>"
            ]
          },
          "execution_count": 22,
          "metadata": {},
          "output_type": "execute_result"
        }
      ],
      "source": [
        "# create object\n",
        "tfidf = TfidfVectorizer()\n",
        "\n",
        "# get tf-df values\n",
        "result = tfidf.fit_transform(string)\n",
        "result"
      ]
    },
    {
      "cell_type": "code",
      "execution_count": null,
      "id": "9ea6d3cd",
      "metadata": {
        "id": "9ea6d3cd",
        "outputId": "d9acc814-1d0d-4d90-a90e-5347e7e6f8b5"
      },
      "outputs": [
        {
          "name": "stdout",
          "output_type": "stream",
          "text": [
            "\n",
            "idf values:\n",
            "analyze : 1.6931471805599454\n",
            "best : 1.6931471805599454\n",
            "courses : 1.6931471805599454\n",
            "data : 1.0\n",
            "fields : 1.6931471805599454\n",
            "important : 1.6931471805599454\n",
            "is : 1.2876820724517808\n",
            "most : 1.6931471805599454\n",
            "of : 1.2876820724517808\n",
            "one : 1.2876820724517808\n",
            "science : 1.2876820724517808\n",
            "scientists : 1.6931471805599454\n",
            "the : 1.2876820724517808\n",
            "this : 1.6931471805599454\n"
          ]
        },
        {
          "name": "stderr",
          "output_type": "stream",
          "text": [
            "D:\\Users\\shrey\\anaconda3\\lib\\site-packages\\sklearn\\utils\\deprecation.py:87: FutureWarning: Function get_feature_names is deprecated; get_feature_names is deprecated in 1.0 and will be removed in 1.2. Please use get_feature_names_out instead.\n",
            "  warnings.warn(msg, category=FutureWarning)\n"
          ]
        }
      ],
      "source": [
        "# get idf values\n",
        "print('\\nidf values:')\n",
        "for ele1, ele2 in zip(tfidf.get_feature_names(), tfidf.idf_):\n",
        "\tprint(ele1, ':', ele2)"
      ]
    },
    {
      "cell_type": "code",
      "execution_count": null,
      "id": "c0bb8ecf",
      "metadata": {
        "id": "c0bb8ecf",
        "outputId": "77244f04-0b9c-421a-9fc4-3393b697fe5e"
      },
      "outputs": [
        {
          "name": "stdout",
          "output_type": "stream",
          "text": [
            "\n",
            "Word indexes:\n",
            "{'data': 3, 'science': 10, 'is': 6, 'one': 9, 'of': 8, 'the': 12, 'most': 7, 'important': 5, 'fields': 4, 'this': 13, 'best': 1, 'courses': 2, 'scientists': 11, 'analyze': 0}\n",
            "\n",
            "tf-idf value:\n",
            "  (0, 4)\t0.320895090271992\n",
            "  (0, 5)\t0.320895090271992\n",
            "  (0, 7)\t0.320895090271992\n",
            "  (0, 12)\t0.24404898736823682\n",
            "  (0, 8)\t0.48809797473647365\n",
            "  (0, 9)\t0.24404898736823682\n",
            "  (0, 6)\t0.24404898736823682\n",
            "  (0, 10)\t0.48809797473647365\n",
            "  (0, 3)\t0.18952580966166677\n",
            "  (1, 2)\t0.40029393442429256\n",
            "  (1, 1)\t0.40029393442429256\n",
            "  (1, 13)\t0.40029393442429256\n",
            "  (1, 12)\t0.30443385488725433\n",
            "  (1, 8)\t0.30443385488725433\n",
            "  (1, 9)\t0.30443385488725433\n",
            "  (1, 6)\t0.30443385488725433\n",
            "  (1, 10)\t0.30443385488725433\n",
            "  (1, 3)\t0.2364200460658773\n",
            "  (2, 0)\t0.5427006131762078\n",
            "  (2, 11)\t0.5427006131762078\n",
            "  (2, 3)\t0.6410554491745127\n",
            "\n",
            "tf-idf values in matrix form:\n",
            "[[0.         0.         0.         0.18952581 0.32089509 0.32089509\n",
            "  0.24404899 0.32089509 0.48809797 0.24404899 0.48809797 0.\n",
            "  0.24404899 0.        ]\n",
            " [0.         0.40029393 0.40029393 0.23642005 0.         0.\n",
            "  0.30443385 0.         0.30443385 0.30443385 0.30443385 0.\n",
            "  0.30443385 0.40029393]\n",
            " [0.54270061 0.         0.         0.64105545 0.         0.\n",
            "  0.         0.         0.         0.         0.         0.54270061\n",
            "  0.         0.        ]]\n"
          ]
        }
      ],
      "source": [
        "# get indexing\n",
        "print('\\nWord indexes:')\n",
        "print(tfidf.vocabulary_)\n",
        "\n",
        "# display tf-idf values\n",
        "print('\\ntf-idf value:')\n",
        "print(result)\n",
        "\n",
        "# in matrix form\n",
        "print('\\ntf-idf values in matrix form:')\n",
        "print(result.toarray())"
      ]
    },
    {
      "cell_type": "code",
      "execution_count": null,
      "id": "929a5c72",
      "metadata": {
        "id": "929a5c72"
      },
      "outputs": [],
      "source": [
        "first_sentence = \"Data Science is the best job of the 21st century\"\n",
        "second_sentence = \"Machine learning is the key for data science\"\n",
        "third_sentence = \"Python is a popular programming language for data science\""
      ]
    },
    {
      "cell_type": "code",
      "execution_count": null,
      "id": "677b379e",
      "metadata": {
        "id": "677b379e"
      },
      "outputs": [],
      "source": [
        "first_sentence = first_sentence.split(\" \")\n",
        "second_sentence = second_sentence.split(\" \")\n",
        "third_sentence = third_sentence.split(\" \")\n",
        "\n",
        "# Joining all words to remove common duplicate words\n",
        "total_words = set(first_sentence).union(set(second_sentence)).union(set(third_sentence))\n",
        "\n",
        "# Creating dictionaries for word count in each sentence\n",
        "wordDictA = dict.fromkeys(total_words, 0)\n",
        "wordDictB = dict.fromkeys(total_words, 0)\n",
        "wordDictC = dict.fromkeys(total_words, 0)"
      ]
    },
    {
      "cell_type": "code",
      "execution_count": null,
      "id": "f169b306",
      "metadata": {
        "id": "f169b306"
      },
      "outputs": [],
      "source": [
        "# Counting occurrences of each word in each sentence\n",
        "for word in first_sentence:\n",
        "    wordDictA[word] += 1\n",
        "for word in second_sentence:\n",
        "    wordDictB[word] += 1\n",
        "for word in third_sentence:\n",
        "    wordDictC[word] += 1"
      ]
    },
    {
      "cell_type": "code",
      "execution_count": null,
      "id": "b8c963a7",
      "metadata": {
        "id": "b8c963a7"
      },
      "outputs": [],
      "source": [
        "# Function to compute Term Frequency (TF)\n",
        "def computeTF(wordDict, doc):\n",
        "    tfDict = {}\n",
        "    corpusCount = len(doc)\n",
        "    for word, count in wordDict.items():\n",
        "        tfDict[word] = count / float(corpusCount)\n",
        "    return tfDict"
      ]
    },
    {
      "cell_type": "code",
      "execution_count": null,
      "id": "cbdae4e7",
      "metadata": {
        "id": "cbdae4e7"
      },
      "outputs": [],
      "source": [
        "# Computing TF for each sentence\n",
        "tfFirst = computeTF(wordDictA, first_sentence)\n",
        "tfSecond = computeTF(wordDictB, second_sentence)\n",
        "tfThird = computeTF(wordDictC, third_sentence)"
      ]
    },
    {
      "cell_type": "code",
      "execution_count": null,
      "id": "e00b585f",
      "metadata": {
        "id": "e00b585f"
      },
      "outputs": [],
      "source": [
        "# Converting TF dictionaries to DataFrame for visualization\n",
        "tf = pd.DataFrame([tfFirst, tfSecond, tfThird])"
      ]
    },
    {
      "cell_type": "code",
      "execution_count": null,
      "id": "96c68a6a",
      "metadata": {
        "id": "96c68a6a",
        "outputId": "d25c8e47-1085-43c8-fdd5-82eece47984b"
      },
      "outputs": [
        {
          "name": "stderr",
          "output_type": "stream",
          "text": [
            "[nltk_data] Downloading package stopwords to\n",
            "[nltk_data]     C:\\Users\\shrey\\AppData\\Roaming\\nltk_data...\n",
            "[nltk_data]   Package stopwords is already up-to-date!\n"
          ]
        }
      ],
      "source": [
        "# Downloading NLTK stopwords\n",
        "nltk.download('stopwords')\n",
        "stop_words = set(stopwords.words('english'))"
      ]
    },
    {
      "cell_type": "code",
      "execution_count": null,
      "id": "dd6720ee",
      "metadata": {
        "id": "dd6720ee"
      },
      "outputs": [],
      "source": [
        "# Filtering out stopwords\n",
        "filtered_sentence_A = [w for w in wordDictA if not w in stop_words]\n",
        "filtered_sentence_B = [w for w in wordDictB if not w in stop_words]\n",
        "filtered_sentence_C = [w for w in wordDictC if not w in stop_words]"
      ]
    },
    {
      "cell_type": "code",
      "execution_count": null,
      "id": "6d283a58",
      "metadata": {
        "id": "6d283a58",
        "outputId": "f43b6f08-ffd0-45e3-b9d5-a468c46ead2a"
      },
      "outputs": [
        {
          "name": "stdout",
          "output_type": "stream",
          "text": [
            "Filtered Sentence A: ['best', 'learning', 'Science', 'science', 'Machine', 'Data', 'Python', 'language', 'key', 'popular', 'programming', 'job', 'data', '21st', 'century']\n",
            "Filtered Sentence B: ['best', 'learning', 'Science', 'science', 'Machine', 'Data', 'Python', 'language', 'key', 'popular', 'programming', 'job', 'data', '21st', 'century']\n",
            "Filtered Sentence C: ['best', 'learning', 'Science', 'science', 'Machine', 'Data', 'Python', 'language', 'key', 'popular', 'programming', 'job', 'data', '21st', 'century']\n"
          ]
        }
      ],
      "source": [
        "print(\"Filtered Sentence A:\", filtered_sentence_A)\n",
        "print(\"Filtered Sentence B:\", filtered_sentence_B)\n",
        "print(\"Filtered Sentence C:\", filtered_sentence_C)"
      ]
    },
    {
      "cell_type": "code",
      "execution_count": null,
      "id": "527e9bd1",
      "metadata": {
        "id": "527e9bd1"
      },
      "outputs": [],
      "source": [
        "# Function to compute Inverse Document Frequency (IDF)\n",
        "def computeIDF(docList):\n",
        "    idfDict = {}\n",
        "    N = len(docList)\n",
        "\n",
        "    idfDict = dict.fromkeys(docList[0].keys(), 0)\n",
        "    for doc in docList:\n",
        "        for word, val in doc.items():\n",
        "            if val > 0:\n",
        "                idfDict[word] += 1\n",
        "\n",
        "    for word, val in idfDict.items():\n",
        "        idfDict[word] = math.log10(N / float(val))\n",
        "\n",
        "    return idfDict"
      ]
    },
    {
      "cell_type": "code",
      "execution_count": null,
      "id": "7ffff8ea",
      "metadata": {
        "id": "7ffff8ea",
        "outputId": "05a52eed-6fca-4343-fe9f-7f94aab45187"
      },
      "outputs": [
        {
          "data": {
            "text/plain": [
              "{'the': 0.17609125905568124,\n",
              " 'best': 0.47712125471966244,\n",
              " 'of': 0.47712125471966244,\n",
              " 'learning': 0.47712125471966244,\n",
              " 'Science': 0.47712125471966244,\n",
              " 'a': 0.47712125471966244,\n",
              " 'science': 0.17609125905568124,\n",
              " 'Machine': 0.47712125471966244,\n",
              " 'Data': 0.47712125471966244,\n",
              " 'Python': 0.47712125471966244,\n",
              " 'language': 0.47712125471966244,\n",
              " 'key': 0.47712125471966244,\n",
              " 'popular': 0.47712125471966244,\n",
              " 'for': 0.17609125905568124,\n",
              " 'programming': 0.47712125471966244,\n",
              " 'job': 0.47712125471966244,\n",
              " 'data': 0.17609125905568124,\n",
              " '21st': 0.47712125471966244,\n",
              " 'is': 0.0,\n",
              " 'century': 0.47712125471966244}"
            ]
          },
          "execution_count": 35,
          "metadata": {},
          "output_type": "execute_result"
        }
      ],
      "source": [
        "# Computing IDF\n",
        "idfs = computeIDF([wordDictA, wordDictB, wordDictC])\n",
        "idfs"
      ]
    },
    {
      "cell_type": "code",
      "execution_count": null,
      "id": "e675d0dd",
      "metadata": {
        "id": "e675d0dd"
      },
      "outputs": [],
      "source": [
        "# Function to compute TF-IDF\n",
        "def computeTFIDF(tfBow, idfs):\n",
        "    tfidf = {}\n",
        "    for word, val in tfBow.items():\n",
        "        tfidf[word] = val * idfs[word]\n",
        "    return tfidf"
      ]
    },
    {
      "cell_type": "code",
      "execution_count": null,
      "id": "53e5a141",
      "metadata": {
        "id": "53e5a141"
      },
      "outputs": [],
      "source": [
        "# Computing TF-IDF for each sentence\n",
        "idfFirst = computeTFIDF(tfFirst, idfs)\n",
        "idfSecond = computeTFIDF(tfSecond, idfs)\n",
        "idfThird = computeTFIDF(tfThird, idfs)"
      ]
    },
    {
      "cell_type": "code",
      "execution_count": null,
      "id": "7fef6c3b",
      "metadata": {
        "id": "7fef6c3b",
        "outputId": "3f63eac1-8510-432c-fb9e-1f3ed28e90a0"
      },
      "outputs": [
        {
          "data": {
            "text/html": [
              "<div>\n",
              "<style scoped>\n",
              "    .dataframe tbody tr th:only-of-type {\n",
              "        vertical-align: middle;\n",
              "    }\n",
              "\n",
              "    .dataframe tbody tr th {\n",
              "        vertical-align: top;\n",
              "    }\n",
              "\n",
              "    .dataframe thead th {\n",
              "        text-align: right;\n",
              "    }\n",
              "</style>\n",
              "<table border=\"1\" class=\"dataframe\">\n",
              "  <thead>\n",
              "    <tr style=\"text-align: right;\">\n",
              "      <th></th>\n",
              "      <th>the</th>\n",
              "      <th>best</th>\n",
              "      <th>of</th>\n",
              "      <th>learning</th>\n",
              "      <th>Science</th>\n",
              "      <th>a</th>\n",
              "      <th>science</th>\n",
              "      <th>Machine</th>\n",
              "      <th>Data</th>\n",
              "      <th>Python</th>\n",
              "      <th>language</th>\n",
              "      <th>key</th>\n",
              "      <th>popular</th>\n",
              "      <th>for</th>\n",
              "      <th>programming</th>\n",
              "      <th>job</th>\n",
              "      <th>data</th>\n",
              "      <th>21st</th>\n",
              "      <th>is</th>\n",
              "      <th>century</th>\n",
              "    </tr>\n",
              "  </thead>\n",
              "  <tbody>\n",
              "    <tr>\n",
              "      <th>0</th>\n",
              "      <td>0.035218</td>\n",
              "      <td>0.047712</td>\n",
              "      <td>0.047712</td>\n",
              "      <td>0.00000</td>\n",
              "      <td>0.047712</td>\n",
              "      <td>0.000000</td>\n",
              "      <td>0.000000</td>\n",
              "      <td>0.00000</td>\n",
              "      <td>0.047712</td>\n",
              "      <td>0.000000</td>\n",
              "      <td>0.000000</td>\n",
              "      <td>0.00000</td>\n",
              "      <td>0.000000</td>\n",
              "      <td>0.000000</td>\n",
              "      <td>0.000000</td>\n",
              "      <td>0.047712</td>\n",
              "      <td>0.000000</td>\n",
              "      <td>0.047712</td>\n",
              "      <td>0.0</td>\n",
              "      <td>0.047712</td>\n",
              "    </tr>\n",
              "    <tr>\n",
              "      <th>1</th>\n",
              "      <td>0.022011</td>\n",
              "      <td>0.000000</td>\n",
              "      <td>0.000000</td>\n",
              "      <td>0.05964</td>\n",
              "      <td>0.000000</td>\n",
              "      <td>0.000000</td>\n",
              "      <td>0.022011</td>\n",
              "      <td>0.05964</td>\n",
              "      <td>0.000000</td>\n",
              "      <td>0.000000</td>\n",
              "      <td>0.000000</td>\n",
              "      <td>0.05964</td>\n",
              "      <td>0.000000</td>\n",
              "      <td>0.022011</td>\n",
              "      <td>0.000000</td>\n",
              "      <td>0.000000</td>\n",
              "      <td>0.022011</td>\n",
              "      <td>0.000000</td>\n",
              "      <td>0.0</td>\n",
              "      <td>0.000000</td>\n",
              "    </tr>\n",
              "    <tr>\n",
              "      <th>2</th>\n",
              "      <td>0.000000</td>\n",
              "      <td>0.000000</td>\n",
              "      <td>0.000000</td>\n",
              "      <td>0.00000</td>\n",
              "      <td>0.000000</td>\n",
              "      <td>0.053013</td>\n",
              "      <td>0.019566</td>\n",
              "      <td>0.00000</td>\n",
              "      <td>0.000000</td>\n",
              "      <td>0.053013</td>\n",
              "      <td>0.053013</td>\n",
              "      <td>0.00000</td>\n",
              "      <td>0.053013</td>\n",
              "      <td>0.019566</td>\n",
              "      <td>0.053013</td>\n",
              "      <td>0.000000</td>\n",
              "      <td>0.019566</td>\n",
              "      <td>0.000000</td>\n",
              "      <td>0.0</td>\n",
              "      <td>0.000000</td>\n",
              "    </tr>\n",
              "  </tbody>\n",
              "</table>\n",
              "</div>"
            ],
            "text/plain": [
              "        the      best        of  learning   Science         a   science  \\\n",
              "0  0.035218  0.047712  0.047712   0.00000  0.047712  0.000000  0.000000   \n",
              "1  0.022011  0.000000  0.000000   0.05964  0.000000  0.000000  0.022011   \n",
              "2  0.000000  0.000000  0.000000   0.00000  0.000000  0.053013  0.019566   \n",
              "\n",
              "   Machine      Data    Python  language      key   popular       for  \\\n",
              "0  0.00000  0.047712  0.000000  0.000000  0.00000  0.000000  0.000000   \n",
              "1  0.05964  0.000000  0.000000  0.000000  0.05964  0.000000  0.022011   \n",
              "2  0.00000  0.000000  0.053013  0.053013  0.00000  0.053013  0.019566   \n",
              "\n",
              "   programming       job      data      21st   is   century  \n",
              "0     0.000000  0.047712  0.000000  0.047712  0.0  0.047712  \n",
              "1     0.000000  0.000000  0.022011  0.000000  0.0  0.000000  \n",
              "2     0.053013  0.000000  0.019566  0.000000  0.0  0.000000  "
            ]
          },
          "execution_count": 38,
          "metadata": {},
          "output_type": "execute_result"
        }
      ],
      "source": [
        "# Converting TF-IDF dictionaries to DataFrame for visualization\n",
        "idf = pd.DataFrame([idfFirst, idfSecond, idfThird])\n",
        "idf"
      ]
    },
    {
      "cell_type": "code",
      "execution_count": null,
      "id": "1a5af7ab",
      "metadata": {
        "id": "1a5af7ab",
        "outputId": "f1e4020f-9e0d-426b-d7cb-62701a58bed1"
      },
      "outputs": [
        {
          "name": "stdout",
          "output_type": "stream",
          "text": [
            "TF:\n",
            "     the  best   of  learning  Science         a   science  Machine  Data  \\\n",
            "0  0.200   0.1  0.1     0.000      0.1  0.000000  0.000000    0.000   0.1   \n",
            "1  0.125   0.0  0.0     0.125      0.0  0.000000  0.125000    0.125   0.0   \n",
            "2  0.000   0.0  0.0     0.000      0.0  0.111111  0.111111    0.000   0.0   \n",
            "\n",
            "     Python  language    key   popular       for  programming  job      data  \\\n",
            "0  0.000000  0.000000  0.000  0.000000  0.000000     0.000000  0.1  0.000000   \n",
            "1  0.000000  0.000000  0.125  0.000000  0.125000     0.000000  0.0  0.125000   \n",
            "2  0.111111  0.111111  0.000  0.111111  0.111111     0.111111  0.0  0.111111   \n",
            "\n",
            "   21st        is  century  \n",
            "0   0.1  0.100000      0.1  \n",
            "1   0.0  0.125000      0.0  \n",
            "2   0.0  0.111111      0.0  \n",
            "\n",
            "TF-IDF:\n",
            "        the      best        of  learning   Science         a   science  \\\n",
            "0  0.035218  0.047712  0.047712   0.00000  0.047712  0.000000  0.000000   \n",
            "1  0.022011  0.000000  0.000000   0.05964  0.000000  0.000000  0.022011   \n",
            "2  0.000000  0.000000  0.000000   0.00000  0.000000  0.053013  0.019566   \n",
            "\n",
            "   Machine      Data    Python  language      key   popular       for  \\\n",
            "0  0.00000  0.047712  0.000000  0.000000  0.00000  0.000000  0.000000   \n",
            "1  0.05964  0.000000  0.000000  0.000000  0.05964  0.000000  0.022011   \n",
            "2  0.00000  0.000000  0.053013  0.053013  0.00000  0.053013  0.019566   \n",
            "\n",
            "   programming       job      data      21st   is   century  \n",
            "0     0.000000  0.047712  0.000000  0.047712  0.0  0.047712  \n",
            "1     0.000000  0.000000  0.022011  0.000000  0.0  0.000000  \n",
            "2     0.053013  0.000000  0.019566  0.000000  0.0  0.000000  \n"
          ]
        }
      ],
      "source": [
        "# Displaying TF and TF-IDF DataFrames\n",
        "print(\"TF:\")\n",
        "print(tf)\n",
        "print(\"\\nTF-IDF:\")\n",
        "print(idf)"
      ]
    }
  ],
  "metadata": {
    "colab": {
      "provenance": []
    },
    "kernelspec": {
      "display_name": "Python 3 (ipykernel)",
      "language": "python",
      "name": "python3"
    },
    "language_info": {
      "codemirror_mode": {
        "name": "ipython",
        "version": 3
      },
      "file_extension": ".py",
      "mimetype": "text/x-python",
      "name": "python",
      "nbconvert_exporter": "python",
      "pygments_lexer": "ipython3",
      "version": "3.9.13"
    }
  },
  "nbformat": 4,
  "nbformat_minor": 5
}
