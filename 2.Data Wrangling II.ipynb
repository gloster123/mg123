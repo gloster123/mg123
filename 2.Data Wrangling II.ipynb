{
 "cells": [
  {
   "cell_type": "code",
   "execution_count": 93,
   "id": "11067fa7",
   "metadata": {},
   "outputs": [],
   "source": [
    "import pandas as pd\n",
    "import numpy as np\n",
    "import matplotlib.pyplot as plt\n",
    "import seaborn as sns"
   ]
  },
  {
   "cell_type": "code",
   "execution_count": 94,
   "id": "1b88b950",
   "metadata": {},
   "outputs": [],
   "source": [
    "data = {'Student_ID':[1,2,3,4,5,6,7,8],\n",
    "        'Name':['Mohit','Saras','Smit','Rushi','Shreyy','Amit','Sarthak','Daggy'],\n",
    "        'Age':[20,17,None,18,25,60,9,23],\n",
    "        'Grade':[60,70,80,83,None,77,65,None],\n",
    "        'Attendance':[99,95,65,60,10,75,69,45]\n",
    "}"
   ]
  },
  {
   "cell_type": "code",
   "execution_count": 95,
   "id": "5ecb2e8c",
   "metadata": {},
   "outputs": [],
   "source": [
    "df=pd.DataFrame(data)"
   ]
  },
  {
   "cell_type": "code",
   "execution_count": 96,
   "id": "f19bb342",
   "metadata": {},
   "outputs": [
    {
     "data": {
      "text/html": [
       "<div>\n",
       "<style scoped>\n",
       "    .dataframe tbody tr th:only-of-type {\n",
       "        vertical-align: middle;\n",
       "    }\n",
       "\n",
       "    .dataframe tbody tr th {\n",
       "        vertical-align: top;\n",
       "    }\n",
       "\n",
       "    .dataframe thead th {\n",
       "        text-align: right;\n",
       "    }\n",
       "</style>\n",
       "<table border=\"1\" class=\"dataframe\">\n",
       "  <thead>\n",
       "    <tr style=\"text-align: right;\">\n",
       "      <th></th>\n",
       "      <th>Student_ID</th>\n",
       "      <th>Name</th>\n",
       "      <th>Age</th>\n",
       "      <th>Grade</th>\n",
       "      <th>Attendance</th>\n",
       "    </tr>\n",
       "  </thead>\n",
       "  <tbody>\n",
       "    <tr>\n",
       "      <th>0</th>\n",
       "      <td>1</td>\n",
       "      <td>Mohit</td>\n",
       "      <td>20.0</td>\n",
       "      <td>60.0</td>\n",
       "      <td>99</td>\n",
       "    </tr>\n",
       "    <tr>\n",
       "      <th>1</th>\n",
       "      <td>2</td>\n",
       "      <td>Saras</td>\n",
       "      <td>17.0</td>\n",
       "      <td>70.0</td>\n",
       "      <td>95</td>\n",
       "    </tr>\n",
       "    <tr>\n",
       "      <th>2</th>\n",
       "      <td>3</td>\n",
       "      <td>Smit</td>\n",
       "      <td>NaN</td>\n",
       "      <td>80.0</td>\n",
       "      <td>65</td>\n",
       "    </tr>\n",
       "    <tr>\n",
       "      <th>3</th>\n",
       "      <td>4</td>\n",
       "      <td>Rushi</td>\n",
       "      <td>18.0</td>\n",
       "      <td>83.0</td>\n",
       "      <td>60</td>\n",
       "    </tr>\n",
       "    <tr>\n",
       "      <th>4</th>\n",
       "      <td>5</td>\n",
       "      <td>Shreyy</td>\n",
       "      <td>25.0</td>\n",
       "      <td>NaN</td>\n",
       "      <td>10</td>\n",
       "    </tr>\n",
       "    <tr>\n",
       "      <th>5</th>\n",
       "      <td>6</td>\n",
       "      <td>Amit</td>\n",
       "      <td>60.0</td>\n",
       "      <td>77.0</td>\n",
       "      <td>75</td>\n",
       "    </tr>\n",
       "    <tr>\n",
       "      <th>6</th>\n",
       "      <td>7</td>\n",
       "      <td>Sarthak</td>\n",
       "      <td>9.0</td>\n",
       "      <td>65.0</td>\n",
       "      <td>69</td>\n",
       "    </tr>\n",
       "    <tr>\n",
       "      <th>7</th>\n",
       "      <td>8</td>\n",
       "      <td>Daggy</td>\n",
       "      <td>23.0</td>\n",
       "      <td>NaN</td>\n",
       "      <td>45</td>\n",
       "    </tr>\n",
       "  </tbody>\n",
       "</table>\n",
       "</div>"
      ],
      "text/plain": [
       "   Student_ID     Name   Age  Grade  Attendance\n",
       "0           1    Mohit  20.0   60.0          99\n",
       "1           2    Saras  17.0   70.0          95\n",
       "2           3     Smit   NaN   80.0          65\n",
       "3           4    Rushi  18.0   83.0          60\n",
       "4           5   Shreyy  25.0    NaN          10\n",
       "5           6     Amit  60.0   77.0          75\n",
       "6           7  Sarthak   9.0   65.0          69\n",
       "7           8    Daggy  23.0    NaN          45"
      ]
     },
     "execution_count": 96,
     "metadata": {},
     "output_type": "execute_result"
    }
   ],
   "source": [
    "df"
   ]
  },
  {
   "cell_type": "code",
   "execution_count": 97,
   "id": "134bb006",
   "metadata": {},
   "outputs": [
    {
     "data": {
      "text/html": [
       "<div>\n",
       "<style scoped>\n",
       "    .dataframe tbody tr th:only-of-type {\n",
       "        vertical-align: middle;\n",
       "    }\n",
       "\n",
       "    .dataframe tbody tr th {\n",
       "        vertical-align: top;\n",
       "    }\n",
       "\n",
       "    .dataframe thead th {\n",
       "        text-align: right;\n",
       "    }\n",
       "</style>\n",
       "<table border=\"1\" class=\"dataframe\">\n",
       "  <thead>\n",
       "    <tr style=\"text-align: right;\">\n",
       "      <th></th>\n",
       "      <th>Student_ID</th>\n",
       "      <th>Name</th>\n",
       "      <th>Age</th>\n",
       "      <th>Grade</th>\n",
       "      <th>Attendance</th>\n",
       "    </tr>\n",
       "  </thead>\n",
       "  <tbody>\n",
       "    <tr>\n",
       "      <th>0</th>\n",
       "      <td>1</td>\n",
       "      <td>Mohit</td>\n",
       "      <td>20.0</td>\n",
       "      <td>60.0</td>\n",
       "      <td>99</td>\n",
       "    </tr>\n",
       "    <tr>\n",
       "      <th>1</th>\n",
       "      <td>2</td>\n",
       "      <td>Saras</td>\n",
       "      <td>17.0</td>\n",
       "      <td>70.0</td>\n",
       "      <td>95</td>\n",
       "    </tr>\n",
       "    <tr>\n",
       "      <th>2</th>\n",
       "      <td>3</td>\n",
       "      <td>Smit</td>\n",
       "      <td>NaN</td>\n",
       "      <td>80.0</td>\n",
       "      <td>65</td>\n",
       "    </tr>\n",
       "    <tr>\n",
       "      <th>3</th>\n",
       "      <td>4</td>\n",
       "      <td>Rushi</td>\n",
       "      <td>18.0</td>\n",
       "      <td>83.0</td>\n",
       "      <td>60</td>\n",
       "    </tr>\n",
       "    <tr>\n",
       "      <th>4</th>\n",
       "      <td>5</td>\n",
       "      <td>Shreyy</td>\n",
       "      <td>25.0</td>\n",
       "      <td>NaN</td>\n",
       "      <td>10</td>\n",
       "    </tr>\n",
       "    <tr>\n",
       "      <th>5</th>\n",
       "      <td>6</td>\n",
       "      <td>Amit</td>\n",
       "      <td>60.0</td>\n",
       "      <td>77.0</td>\n",
       "      <td>75</td>\n",
       "    </tr>\n",
       "    <tr>\n",
       "      <th>6</th>\n",
       "      <td>7</td>\n",
       "      <td>Sarthak</td>\n",
       "      <td>9.0</td>\n",
       "      <td>65.0</td>\n",
       "      <td>69</td>\n",
       "    </tr>\n",
       "    <tr>\n",
       "      <th>7</th>\n",
       "      <td>8</td>\n",
       "      <td>Daggy</td>\n",
       "      <td>23.0</td>\n",
       "      <td>NaN</td>\n",
       "      <td>45</td>\n",
       "    </tr>\n",
       "  </tbody>\n",
       "</table>\n",
       "</div>"
      ],
      "text/plain": [
       "   Student_ID     Name   Age  Grade  Attendance\n",
       "0           1    Mohit  20.0   60.0          99\n",
       "1           2    Saras  17.0   70.0          95\n",
       "2           3     Smit   NaN   80.0          65\n",
       "3           4    Rushi  18.0   83.0          60\n",
       "4           5   Shreyy  25.0    NaN          10\n",
       "5           6     Amit  60.0   77.0          75\n",
       "6           7  Sarthak   9.0   65.0          69\n",
       "7           8    Daggy  23.0    NaN          45"
      ]
     },
     "execution_count": 97,
     "metadata": {},
     "output_type": "execute_result"
    }
   ],
   "source": [
    "df.head(9)"
   ]
  },
  {
   "cell_type": "code",
   "execution_count": 98,
   "id": "8b1131ed",
   "metadata": {},
   "outputs": [],
   "source": [
    "miss_val = df.isnull().sum()"
   ]
  },
  {
   "cell_type": "code",
   "execution_count": 99,
   "id": "b9f3aceb",
   "metadata": {},
   "outputs": [
    {
     "data": {
      "text/plain": [
       "Student_ID    0\n",
       "Name          0\n",
       "Age           1\n",
       "Grade         2\n",
       "Attendance    0\n",
       "dtype: int64"
      ]
     },
     "execution_count": 99,
     "metadata": {},
     "output_type": "execute_result"
    }
   ],
   "source": [
    "miss_val"
   ]
  },
  {
   "cell_type": "code",
   "execution_count": 100,
   "id": "912ec563",
   "metadata": {},
   "outputs": [],
   "source": [
    "df['Grade'].fillna(df['Grade'].median(), inplace=True)\n",
    "df['Age'].fillna(df['Age'].median(),inplace=True)"
   ]
  },
  {
   "cell_type": "code",
   "execution_count": 101,
   "id": "c78be227",
   "metadata": {},
   "outputs": [
    {
     "data": {
      "text/html": [
       "<div>\n",
       "<style scoped>\n",
       "    .dataframe tbody tr th:only-of-type {\n",
       "        vertical-align: middle;\n",
       "    }\n",
       "\n",
       "    .dataframe tbody tr th {\n",
       "        vertical-align: top;\n",
       "    }\n",
       "\n",
       "    .dataframe thead th {\n",
       "        text-align: right;\n",
       "    }\n",
       "</style>\n",
       "<table border=\"1\" class=\"dataframe\">\n",
       "  <thead>\n",
       "    <tr style=\"text-align: right;\">\n",
       "      <th></th>\n",
       "      <th>Student_ID</th>\n",
       "      <th>Name</th>\n",
       "      <th>Age</th>\n",
       "      <th>Grade</th>\n",
       "      <th>Attendance</th>\n",
       "    </tr>\n",
       "  </thead>\n",
       "  <tbody>\n",
       "    <tr>\n",
       "      <th>0</th>\n",
       "      <td>1</td>\n",
       "      <td>Mohit</td>\n",
       "      <td>20.0</td>\n",
       "      <td>60.0</td>\n",
       "      <td>99</td>\n",
       "    </tr>\n",
       "    <tr>\n",
       "      <th>1</th>\n",
       "      <td>2</td>\n",
       "      <td>Saras</td>\n",
       "      <td>17.0</td>\n",
       "      <td>70.0</td>\n",
       "      <td>95</td>\n",
       "    </tr>\n",
       "    <tr>\n",
       "      <th>2</th>\n",
       "      <td>3</td>\n",
       "      <td>Smit</td>\n",
       "      <td>20.0</td>\n",
       "      <td>80.0</td>\n",
       "      <td>65</td>\n",
       "    </tr>\n",
       "    <tr>\n",
       "      <th>3</th>\n",
       "      <td>4</td>\n",
       "      <td>Rushi</td>\n",
       "      <td>18.0</td>\n",
       "      <td>83.0</td>\n",
       "      <td>60</td>\n",
       "    </tr>\n",
       "    <tr>\n",
       "      <th>4</th>\n",
       "      <td>5</td>\n",
       "      <td>Shreyy</td>\n",
       "      <td>25.0</td>\n",
       "      <td>73.5</td>\n",
       "      <td>10</td>\n",
       "    </tr>\n",
       "    <tr>\n",
       "      <th>5</th>\n",
       "      <td>6</td>\n",
       "      <td>Amit</td>\n",
       "      <td>60.0</td>\n",
       "      <td>77.0</td>\n",
       "      <td>75</td>\n",
       "    </tr>\n",
       "    <tr>\n",
       "      <th>6</th>\n",
       "      <td>7</td>\n",
       "      <td>Sarthak</td>\n",
       "      <td>9.0</td>\n",
       "      <td>65.0</td>\n",
       "      <td>69</td>\n",
       "    </tr>\n",
       "    <tr>\n",
       "      <th>7</th>\n",
       "      <td>8</td>\n",
       "      <td>Daggy</td>\n",
       "      <td>23.0</td>\n",
       "      <td>73.5</td>\n",
       "      <td>45</td>\n",
       "    </tr>\n",
       "  </tbody>\n",
       "</table>\n",
       "</div>"
      ],
      "text/plain": [
       "   Student_ID     Name   Age  Grade  Attendance\n",
       "0           1    Mohit  20.0   60.0          99\n",
       "1           2    Saras  17.0   70.0          95\n",
       "2           3     Smit  20.0   80.0          65\n",
       "3           4    Rushi  18.0   83.0          60\n",
       "4           5   Shreyy  25.0   73.5          10\n",
       "5           6     Amit  60.0   77.0          75\n",
       "6           7  Sarthak   9.0   65.0          69\n",
       "7           8    Daggy  23.0   73.5          45"
      ]
     },
     "execution_count": 101,
     "metadata": {},
     "output_type": "execute_result"
    }
   ],
   "source": [
    "df"
   ]
  },
  {
   "cell_type": "code",
   "execution_count": 102,
   "id": "aba077be",
   "metadata": {},
   "outputs": [],
   "source": [
    "insconsistance_age = df[(df['Age']< 10) | (df['Age']>20)]"
   ]
  },
  {
   "cell_type": "code",
   "execution_count": 103,
   "id": "38d7963b",
   "metadata": {},
   "outputs": [
    {
     "data": {
      "text/html": [
       "<div>\n",
       "<style scoped>\n",
       "    .dataframe tbody tr th:only-of-type {\n",
       "        vertical-align: middle;\n",
       "    }\n",
       "\n",
       "    .dataframe tbody tr th {\n",
       "        vertical-align: top;\n",
       "    }\n",
       "\n",
       "    .dataframe thead th {\n",
       "        text-align: right;\n",
       "    }\n",
       "</style>\n",
       "<table border=\"1\" class=\"dataframe\">\n",
       "  <thead>\n",
       "    <tr style=\"text-align: right;\">\n",
       "      <th></th>\n",
       "      <th>Student_ID</th>\n",
       "      <th>Name</th>\n",
       "      <th>Age</th>\n",
       "      <th>Grade</th>\n",
       "      <th>Attendance</th>\n",
       "    </tr>\n",
       "  </thead>\n",
       "  <tbody>\n",
       "    <tr>\n",
       "      <th>4</th>\n",
       "      <td>5</td>\n",
       "      <td>Shreyy</td>\n",
       "      <td>25.0</td>\n",
       "      <td>73.5</td>\n",
       "      <td>10</td>\n",
       "    </tr>\n",
       "    <tr>\n",
       "      <th>5</th>\n",
       "      <td>6</td>\n",
       "      <td>Amit</td>\n",
       "      <td>60.0</td>\n",
       "      <td>77.0</td>\n",
       "      <td>75</td>\n",
       "    </tr>\n",
       "    <tr>\n",
       "      <th>6</th>\n",
       "      <td>7</td>\n",
       "      <td>Sarthak</td>\n",
       "      <td>9.0</td>\n",
       "      <td>65.0</td>\n",
       "      <td>69</td>\n",
       "    </tr>\n",
       "    <tr>\n",
       "      <th>7</th>\n",
       "      <td>8</td>\n",
       "      <td>Daggy</td>\n",
       "      <td>23.0</td>\n",
       "      <td>73.5</td>\n",
       "      <td>45</td>\n",
       "    </tr>\n",
       "  </tbody>\n",
       "</table>\n",
       "</div>"
      ],
      "text/plain": [
       "   Student_ID     Name   Age  Grade  Attendance\n",
       "4           5   Shreyy  25.0   73.5          10\n",
       "5           6     Amit  60.0   77.0          75\n",
       "6           7  Sarthak   9.0   65.0          69\n",
       "7           8    Daggy  23.0   73.5          45"
      ]
     },
     "execution_count": 103,
     "metadata": {},
     "output_type": "execute_result"
    }
   ],
   "source": [
    "insconsistance_age"
   ]
  },
  {
   "cell_type": "code",
   "execution_count": 104,
   "id": "ef0e687d",
   "metadata": {},
   "outputs": [
    {
     "data": {
      "text/plain": [
       "{'whiskers': [<matplotlib.lines.Line2D at 0x20fec86eee0>,\n",
       "  <matplotlib.lines.Line2D at 0x20fece1cf10>],\n",
       " 'caps': [<matplotlib.lines.Line2D at 0x20fece1c6d0>,\n",
       "  <matplotlib.lines.Line2D at 0x20fece1c640>],\n",
       " 'boxes': [<matplotlib.lines.Line2D at 0x20fec86e520>],\n",
       " 'medians': [<matplotlib.lines.Line2D at 0x20fece1c0d0>],\n",
       " 'fliers': [<matplotlib.lines.Line2D at 0x20fece1c6a0>],\n",
       " 'means': []}"
      ]
     },
     "execution_count": 104,
     "metadata": {},
     "output_type": "execute_result"
    },
    {
     "data": {
      "image/png": "[encoded data removed]",
      "text/plain": [
       "<Figure size 640x480 with 1 Axes>"
      ]
     },
     "metadata": {},
     "output_type": "display_data"
    }
   ],
   "source": [
    "plt.boxplot(x='Age',data=df)"
   ]
  },
  {
   "cell_type": "code",
   "execution_count": 105,
   "id": "b5f5a23c",
   "metadata": {},
   "outputs": [
    {
     "data": {
      "text/plain": [
       "{'whiskers': [<matplotlib.lines.Line2D at 0x20fec7a1fa0>,\n",
       "  <matplotlib.lines.Line2D at 0x20fec7a1b20>],\n",
       " 'caps': [<matplotlib.lines.Line2D at 0x20fec58aeb0>,\n",
       "  <matplotlib.lines.Line2D at 0x20fec58a070>],\n",
       " 'boxes': [<matplotlib.lines.Line2D at 0x20fec58d7c0>],\n",
       " 'medians': [<matplotlib.lines.Line2D at 0x20fec58ad00>],\n",
       " 'fliers': [<matplotlib.lines.Line2D at 0x20fec766df0>],\n",
       " 'means': []}"
      ]
     },
     "execution_count": 105,
     "metadata": {},
     "output_type": "execute_result"
    },
    {
     "data": {
      "image/png": "[encoded data removed]",
      "text/plain": [
       "<Figure size 640x480 with 1 Axes>"
      ]
     },
     "metadata": {},
     "output_type": "display_data"
    }
   ],
   "source": [
    "plt.boxplot(x='Grade',data=df)"
   ]
  },
  {
   "cell_type": "code",
   "execution_count": 106,
   "id": "96793779",
   "metadata": {},
   "outputs": [
    {
     "data": {
      "text/plain": [
       "{'whiskers': [<matplotlib.lines.Line2D at 0x20fec6f1400>,\n",
       "  <matplotlib.lines.Line2D at 0x20fec6f1460>],\n",
       " 'caps': [<matplotlib.lines.Line2D at 0x20fec6f1b20>,\n",
       "  <matplotlib.lines.Line2D at 0x20fec6ae190>],\n",
       " 'boxes': [<matplotlib.lines.Line2D at 0x20fec6f1a90>],\n",
       " 'medians': [<matplotlib.lines.Line2D at 0x20fec6aef10>],\n",
       " 'fliers': [<matplotlib.lines.Line2D at 0x20fec6aeac0>],\n",
       " 'means': []}"
      ]
     },
     "execution_count": 106,
     "metadata": {},
     "output_type": "execute_result"
    },
    {
     "data": {
      "image/png": "[encoded data removed]",
      "text/plain": [
       "<Figure size 640x480 with 1 Axes>"
      ]
     },
     "metadata": {},
     "output_type": "display_data"
    }
   ],
   "source": [
    "plt.boxplot(x='Attendance',data=df)"
   ]
  },
  {
   "cell_type": "code",
   "execution_count": 107,
   "id": "397db6aa",
   "metadata": {},
   "outputs": [],
   "source": [
    "def Remove_outliers(column):\n",
    "    Q1=column.quantile(0.25)\n",
    "    Q3=column.quantile(0.75)\n",
    "    IQR=Q3-Q1\n",
    "    Lower_bound=Q1 - 1.5*IQR\n",
    "    Upper_bound=Q3 + 1.5*IQR\n",
    "    return column[(column>=Lower_bound)&(column<=Upper_bound)]\n",
    "    "
   ]
  },
  {
   "cell_type": "code",
   "execution_count": 108,
   "id": "2e9594af",
   "metadata": {},
   "outputs": [],
   "source": [
    "df['Age']=Remove_outliers(df['Age'])"
   ]
  },
  {
   "cell_type": "code",
   "execution_count": 109,
   "id": "bd009e2b",
   "metadata": {},
   "outputs": [
    {
     "data": {
      "text/plain": [
       "0    20.0\n",
       "1    17.0\n",
       "2    20.0\n",
       "3    18.0\n",
       "4    25.0\n",
       "5     NaN\n",
       "6     NaN\n",
       "7    23.0\n",
       "Name: Age, dtype: float64"
      ]
     },
     "execution_count": 109,
     "metadata": {},
     "output_type": "execute_result"
    }
   ],
   "source": [
    "df['Age']"
   ]
  },
  {
   "cell_type": "code",
   "execution_count": 110,
   "id": "a650074c",
   "metadata": {},
   "outputs": [],
   "source": [
    "df['Attendance']=Remove_outliers(df['Attendance'])"
   ]
  },
  {
   "cell_type": "code",
   "execution_count": 111,
   "id": "7e026fbe",
   "metadata": {},
   "outputs": [
    {
     "data": {
      "text/plain": [
       "0    99.0\n",
       "1    95.0\n",
       "2    65.0\n",
       "3    60.0\n",
       "4     NaN\n",
       "5    75.0\n",
       "6    69.0\n",
       "7    45.0\n",
       "Name: Attendance, dtype: float64"
      ]
     },
     "execution_count": 111,
     "metadata": {},
     "output_type": "execute_result"
    }
   ],
   "source": [
    "df['Attendance']"
   ]
  },
  {
   "cell_type": "code",
   "execution_count": 112,
   "id": "ca08baa2",
   "metadata": {},
   "outputs": [],
   "source": [
    "df['Grade']=Remove_outliers(df['Grade'])"
   ]
  },
  {
   "cell_type": "code",
   "execution_count": 113,
   "id": "6c204cd3",
   "metadata": {},
   "outputs": [
    {
     "data": {
      "text/plain": [
       "0    60.0\n",
       "1    70.0\n",
       "2    80.0\n",
       "3    83.0\n",
       "4    73.5\n",
       "5    77.0\n",
       "6    65.0\n",
       "7    73.5\n",
       "Name: Grade, dtype: float64"
      ]
     },
     "execution_count": 113,
     "metadata": {},
     "output_type": "execute_result"
    }
   ],
   "source": [
    "df['Grade']"
   ]
  },
  {
   "cell_type": "code",
   "execution_count": 114,
   "id": "feb20dc4",
   "metadata": {},
   "outputs": [],
   "source": [
    "df['Age_sqrt']=np.sqrt(df['Age'])"
   ]
  },
  {
   "cell_type": "code",
   "execution_count": 115,
   "id": "81925491",
   "metadata": {},
   "outputs": [
    {
     "data": {
      "text/plain": [
       "0    4.472136\n",
       "1    4.123106\n",
       "2    4.472136\n",
       "3    4.242641\n",
       "4    5.000000\n",
       "5         NaN\n",
       "6         NaN\n",
       "7    4.795832\n",
       "Name: Age_sqrt, dtype: float64"
      ]
     },
     "execution_count": 115,
     "metadata": {},
     "output_type": "execute_result"
    }
   ],
   "source": [
    "df['Age_sqrt']"
   ]
  },
  {
   "cell_type": "code",
   "execution_count": null,
   "id": "98e578ef",
   "metadata": {},
   "outputs": [],
   "source": []
  },
  {
   "cell_type": "code",
   "execution_count": null,
   "id": "9184e000",
   "metadata": {},
   "outputs": [],
   "source": []
  }
 ],
 "metadata": {
  "kernelspec": {
   "display_name": "Python 3 (ipykernel)",
   "language": "python",
   "name": "python3"
  },
  "language_info": {
   "codemirror_mode": {
    "name": "ipython",
    "version": 3
   },
   "file_extension": ".py",
   "mimetype": "text/x-python",
   "name": "python",
   "nbconvert_exporter": "python",
   "pygments_lexer": "ipython3",
   "version": "3.9.13"
  }
 },
 "nbformat": 4,
 "nbformat_minor": 5
}
